{
 "cells": [
  {
   "cell_type": "markdown",
   "metadata": {
    "colab_type": "text",
    "id": "BdgkdBQJHpaz"
   },
   "source": [
    "# Recurrent Neural Network: Airline Sentiment"
   ]
  },
  {
   "cell_type": "markdown",
   "metadata": {
    "colab_type": "text",
    "id": "pu792gNaECZG"
   },
   "source": [
    "## Import depedencies"
   ]
  },
  {
   "cell_type": "code",
   "execution_count": null,
   "metadata": {
    "colab": {
     "base_uri": "https://localhost:8080/",
     "height": 62
    },
    "colab_type": "code",
    "executionInfo": {
     "elapsed": 2263,
     "status": "ok",
     "timestamp": 1582784877427,
     "user": {
      "displayName": "Maholi Solin",
      "photoUrl": "https://lh3.googleusercontent.com/a-/AAuE7mBlkUmoc_vIcEgCoKfjr3U-x5kyu9-y4uwZ_YR9QA=s64",
      "userId": "10710053791698619486"
     },
     "user_tz": -420
    },
    "id": "SHFoH80HyPxj",
    "outputId": "dd9556ad-9257-4413-f71a-7ead18e8d527"
   },
   "outputs": [],
   "source": [
    "from tensorflow.python.keras.utils import to_categorical\n",
    "from tensorflow.python.keras.models import Sequential\n",
    "from tensorflow.python.keras.layers import Dense, LSTM, Embedding\n",
    "from tensorflow.python.keras.optimizers import Adam\n",
    "from tensorflow.python.keras.preprocessing.text import Tokenizer\n",
    "from tensorflow.python.keras.preprocessing.sequence import pad_sequences\n",
    "\n",
    "from sklearn.model_selection import train_test_split\n",
    "import pandas as pd\n",
    "import numpy as np"
   ]
  },
  {
   "cell_type": "markdown",
   "metadata": {
    "colab_type": "text",
    "id": "uk2VicYLEVgV"
   },
   "source": [
    "## Data preprocessing"
   ]
  },
  {
   "cell_type": "markdown",
   "metadata": {
    "colab_type": "text",
    "id": "kpLPxSaxp9WZ"
   },
   "source": [
    "### Get dataset"
   ]
  },
  {
   "cell_type": "code",
   "execution_count": null,
   "metadata": {
    "colab": {
     "base_uri": "https://localhost:8080/",
     "height": 199
    },
    "colab_type": "code",
    "executionInfo": {
     "elapsed": 10092,
     "status": "ok",
     "timestamp": 1582784885278,
     "user": {
      "displayName": "Maholi Solin",
      "photoUrl": "https://lh3.googleusercontent.com/a-/AAuE7mBlkUmoc_vIcEgCoKfjr3U-x5kyu9-y4uwZ_YR9QA=s64",
      "userId": "10710053791698619486"
     },
     "user_tz": -420
    },
    "id": "9p8OKxwaoT6S",
    "outputId": "1d23bff7-be29-414b-bd80-0f9d671bf31a"
   },
   "outputs": [],
   "source": [
    "!wget 'https://raw.githubusercontent.com/fahmisalman/Sentiment-Analytics/master/dataset/Tweets.csv'"
   ]
  },
  {
   "cell_type": "markdown",
   "metadata": {
    "colab_type": "text",
    "id": "fUVpu-fYqJvq"
   },
   "source": [
    "### Load dataset"
   ]
  },
  {
   "cell_type": "code",
   "execution_count": null,
   "metadata": {
    "colab": {},
    "colab_type": "code",
    "id": "YRbsOl0DHr6c"
   },
   "outputs": [],
   "source": [
    "df = pd.read_csv('Tweets.csv')"
   ]
  },
  {
   "cell_type": "code",
   "execution_count": null,
   "metadata": {
    "colab": {
     "base_uri": "https://localhost:8080/",
     "height": 436
    },
    "colab_type": "code",
    "executionInfo": {
     "elapsed": 10080,
     "status": "ok",
     "timestamp": 1582784885284,
     "user": {
      "displayName": "Maholi Solin",
      "photoUrl": "https://lh3.googleusercontent.com/a-/AAuE7mBlkUmoc_vIcEgCoKfjr3U-x5kyu9-y4uwZ_YR9QA=s64",
      "userId": "10710053791698619486"
     },
     "user_tz": -420
    },
    "id": "JEkj82DsHv0a",
    "outputId": "c11dadf2-6863-4bcb-edc0-06843daf039e"
   },
   "outputs": [],
   "source": [
    "# Show top-5 row in dataset\n",
    "df.head()"
   ]
  },
  {
   "cell_type": "code",
   "execution_count": null,
   "metadata": {
    "colab": {},
    "colab_type": "code",
    "id": "KcSm07-UIU1w"
   },
   "outputs": [],
   "source": [
    "# define column and class\n",
    "text = df['text']\n",
    "label = df['airline_sentiment']\n",
    "\n",
    "class_label = ['positive', 'neutral', 'negative']"
   ]
  },
  {
   "cell_type": "code",
   "execution_count": null,
   "metadata": {
    "colab": {},
    "colab_type": "code",
    "id": "j6m5TYnsL-Qf"
   },
   "outputs": [],
   "source": [
    "# Split dataset to train data and test data\n",
    "X_train, X_test, y_train, y_test = train_test_split(text, label, test_size=0.3, random_state=1)"
   ]
  },
  {
   "cell_type": "code",
   "execution_count": null,
   "metadata": {
    "colab": {
     "base_uri": "https://localhost:8080/",
     "height": 33
    },
    "colab_type": "code",
    "executionInfo": {
     "elapsed": 10063,
     "status": "ok",
     "timestamp": 1582784885290,
     "user": {
      "displayName": "Maholi Solin",
      "photoUrl": "https://lh3.googleusercontent.com/a-/AAuE7mBlkUmoc_vIcEgCoKfjr3U-x5kyu9-y4uwZ_YR9QA=s64",
      "userId": "10710053791698619486"
     },
     "user_tz": -420
    },
    "id": "8hNNRLOcQHj-",
    "outputId": "b4513ff8-e3a5-4a0d-cc4f-d7fe1f1eb029"
   },
   "outputs": [],
   "source": [
    "# displays the contents of the first text\n",
    "X_train[0]"
   ]
  },
  {
   "cell_type": "code",
   "execution_count": null,
   "metadata": {
    "colab": {
     "base_uri": "https://localhost:8080/",
     "height": 33
    },
    "colab_type": "code",
    "executionInfo": {
     "elapsed": 10049,
     "status": "ok",
     "timestamp": 1582784885291,
     "user": {
      "displayName": "Maholi Solin",
      "photoUrl": "https://lh3.googleusercontent.com/a-/AAuE7mBlkUmoc_vIcEgCoKfjr3U-x5kyu9-y4uwZ_YR9QA=s64",
      "userId": "10710053791698619486"
     },
     "user_tz": -420
    },
    "id": "vuMk8CV-EgnL",
    "outputId": "3347ffa5-bc89-4158-b0ee-b8d9cddfe0ec"
   },
   "outputs": [],
   "source": [
    "# displays the contents of the first class\n",
    "y_train[0]"
   ]
  },
  {
   "cell_type": "markdown",
   "metadata": {
    "colab_type": "text",
    "id": "u0Fm6hA6qg9A"
   },
   "source": [
    "### Tokenizer"
   ]
  },
  {
   "cell_type": "code",
   "execution_count": null,
   "metadata": {
    "colab": {},
    "colab_type": "code",
    "id": "s7yXoQVUIb31"
   },
   "outputs": [],
   "source": [
    "# Convert sentence into tokens\n",
    "num_words = 5000\n",
    "tokenizer = Tokenizer(num_words=num_words)\n",
    "tokenizer.fit_on_texts(text)"
   ]
  },
  {
   "cell_type": "code",
   "execution_count": null,
   "metadata": {
    "colab": {},
    "colab_type": "code",
    "id": "NbvGmsHuIjeE"
   },
   "outputs": [],
   "source": [
    "x_train_tokens = tokenizer.texts_to_sequences(X_train)"
   ]
  },
  {
   "cell_type": "code",
   "execution_count": null,
   "metadata": {
    "colab": {
     "base_uri": "https://localhost:8080/",
     "height": 464
    },
    "colab_type": "code",
    "executionInfo": {
     "elapsed": 10579,
     "status": "ok",
     "timestamp": 1582784885843,
     "user": {
      "displayName": "Maholi Solin",
      "photoUrl": "https://lh3.googleusercontent.com/a-/AAuE7mBlkUmoc_vIcEgCoKfjr3U-x5kyu9-y4uwZ_YR9QA=s64",
      "userId": "10710053791698619486"
     },
     "user_tz": -420
    },
    "id": "ninuiP1jFaO-",
    "outputId": "c3b6a149-02df-4875-c19d-f42377000848"
   },
   "outputs": [],
   "source": [
    "x_train_tokens[0]"
   ]
  },
  {
   "cell_type": "code",
   "execution_count": null,
   "metadata": {
    "colab": {
     "base_uri": "https://localhost:8080/",
     "height": 464
    },
    "colab_type": "code",
    "executionInfo": {
     "elapsed": 10570,
     "status": "ok",
     "timestamp": 1582784885845,
     "user": {
      "displayName": "Maholi Solin",
      "photoUrl": "https://lh3.googleusercontent.com/a-/AAuE7mBlkUmoc_vIcEgCoKfjr3U-x5kyu9-y4uwZ_YR9QA=s64",
      "userId": "10710053791698619486"
     },
     "user_tz": -420
    },
    "id": "DWFQkcy7Gtmx",
    "outputId": "3f6e8f6b-51b8-4040-dc19-ea1590225176"
   },
   "outputs": [],
   "source": [
    "# displays the word for each token in the first sentence\n",
    "reverse_word_map = dict(map(reversed, tokenizer.word_index.items()))\n",
    "\n",
    "def sequence_to_text(list_of_indices):\n",
    "  # Looking up words in dictionary\n",
    "  words = [reverse_word_map.get(letter) for letter in list_of_indices]\n",
    "  return(words)\n",
    "\n",
    "sequence_to_text(x_train_tokens[0])"
   ]
  },
  {
   "cell_type": "code",
   "execution_count": null,
   "metadata": {
    "colab": {
     "base_uri": "https://localhost:8080/",
     "height": 50
    },
    "colab_type": "code",
    "executionInfo": {
     "elapsed": 10560,
     "status": "ok",
     "timestamp": 1582784885847,
     "user": {
      "displayName": "Maholi Solin",
      "photoUrl": "https://lh3.googleusercontent.com/a-/AAuE7mBlkUmoc_vIcEgCoKfjr3U-x5kyu9-y4uwZ_YR9QA=s64",
      "userId": "10710053791698619486"
     },
     "user_tz": -420
    },
    "id": "uJJiSuuWPn7V",
    "outputId": "4769871a-82f7-40be-f30e-af107fba0169"
   },
   "outputs": [],
   "source": [
    "# Maximum words in one sentence in the training data\n",
    "print('Maximum review length: {}'.format(\n",
    "len(max(x_train_tokens, key=len))))\n",
    "\n",
    "# Minimum words in one sentence in the training data\n",
    "print('Minimum review length: {}'.format(\n",
    "len(min(x_train_tokens, key=len))))"
   ]
  },
  {
   "cell_type": "code",
   "execution_count": null,
   "metadata": {
    "colab": {},
    "colab_type": "code",
    "id": "Qrmnt4ogPy5C"
   },
   "outputs": [],
   "source": [
    "# give padding for each sentence so that it has the same token length\n",
    "x_train_tokens = pad_sequences(x_train_tokens, maxlen=100, padding='pre', truncating='pre')"
   ]
  },
  {
   "cell_type": "code",
   "execution_count": null,
   "metadata": {
    "colab": {
     "base_uri": "https://localhost:8080/",
     "height": 182
    },
    "colab_type": "code",
    "executionInfo": {
     "elapsed": 10549,
     "status": "ok",
     "timestamp": 1582784885853,
     "user": {
      "displayName": "Maholi Solin",
      "photoUrl": "https://lh3.googleusercontent.com/a-/AAuE7mBlkUmoc_vIcEgCoKfjr3U-x5kyu9-y4uwZ_YR9QA=s64",
      "userId": "10710053791698619486"
     },
     "user_tz": -420
    },
    "id": "CPmrw4KHQKba",
    "outputId": "7394cd4f-f9b4-492f-a2c8-0a1d109d57c5"
   },
   "outputs": [],
   "source": [
    "x_train_tokens[0]"
   ]
  },
  {
   "cell_type": "markdown",
   "metadata": {
    "colab_type": "text",
    "id": "oGE8RqiXsdOA"
   },
   "source": [
    "### One hot encoder"
   ]
  },
  {
   "cell_type": "code",
   "execution_count": null,
   "metadata": {
    "colab": {},
    "colab_type": "code",
    "id": "DSHVyCWUJJHw"
   },
   "outputs": [],
   "source": [
    "def one_hot_encoder(y):\n",
    "  label = np.zeros([len(y), len(class_label)])\n",
    "  for i in range(len(y)):\n",
    "      label[i][class_label.index(y[i])] = 1\n",
    "  return label"
   ]
  },
  {
   "cell_type": "code",
   "execution_count": null,
   "metadata": {
    "colab": {
     "base_uri": "https://localhost:8080/",
     "height": 0
    },
    "colab_type": "code",
    "executionInfo": {
     "elapsed": 10537,
     "status": "ok",
     "timestamp": 1582784885856,
     "user": {
      "displayName": "Maholi Solin",
      "photoUrl": "https://lh3.googleusercontent.com/a-/AAuE7mBlkUmoc_vIcEgCoKfjr3U-x5kyu9-y4uwZ_YR9QA=s64",
      "userId": "10710053791698619486"
     },
     "user_tz": -420
    },
    "id": "tf3E_XDYsZH7",
    "outputId": "75291694-e4e7-4ba3-a8fa-3dd9f6f506d9"
   },
   "outputs": [],
   "source": [
    "y_train[0]"
   ]
  },
  {
   "cell_type": "code",
   "execution_count": null,
   "metadata": {
    "colab": {
     "base_uri": "https://localhost:8080/",
     "height": 0
    },
    "colab_type": "code",
    "executionInfo": {
     "elapsed": 10531,
     "status": "ok",
     "timestamp": 1582784885858,
     "user": {
      "displayName": "Maholi Solin",
      "photoUrl": "https://lh3.googleusercontent.com/a-/AAuE7mBlkUmoc_vIcEgCoKfjr3U-x5kyu9-y4uwZ_YR9QA=s64",
      "userId": "10710053791698619486"
     },
     "user_tz": -420
    },
    "id": "TF3G6CXzJOfv",
    "outputId": "5ed58843-d4f6-4d72-b4fa-007dca601f13"
   },
   "outputs": [],
   "source": [
    "y_train_encoder = one_hot_encoder(list(y_train))\n",
    "y_train_encoder[0]"
   ]
  },
  {
   "cell_type": "markdown",
   "metadata": {
    "colab_type": "text",
    "id": "ufZa_N-ZtDWp"
   },
   "source": [
    "## Build the model"
   ]
  },
  {
   "cell_type": "markdown",
   "metadata": {
    "colab_type": "text",
    "id": "_fW_ZKDi3n5g"
   },
   "source": [
    "![alt text](https://upload.wikimedia.org/wikipedia/commons/thumb/6/63/Long_Short-Term_Memory.svg/1920px-Long_Short-Term_Memory.svg.png)\n",
    "\n",
    "Long Short Term Memory architecture\n",
    "\n",
    "Source: https://en.wikipedia.org/wiki/Recurrent_neural_network"
   ]
  },
  {
   "cell_type": "markdown",
   "metadata": {
    "colab_type": "text",
    "id": "8QvRCsuttKUT"
   },
   "source": [
    "### Define the model"
   ]
  },
  {
   "cell_type": "code",
   "execution_count": null,
   "metadata": {
    "colab": {
     "base_uri": "https://localhost:8080/",
     "height": 136
    },
    "colab_type": "code",
    "executionInfo": {
     "elapsed": 10976,
     "status": "ok",
     "timestamp": 1582784886311,
     "user": {
      "displayName": "Maholi Solin",
      "photoUrl": "https://lh3.googleusercontent.com/a-/AAuE7mBlkUmoc_vIcEgCoKfjr3U-x5kyu9-y4uwZ_YR9QA=s64",
      "userId": "10710053791698619486"
     },
     "user_tz": -420
    },
    "id": "ozmgrSM3IvHR",
    "outputId": "13bf40cd-1e57-4cf8-c062-f7cda5fdbeab"
   },
   "outputs": [],
   "source": [
    "model = Sequential()\n",
    "max_tokens = 100\n",
    "embedding_size = 250\n",
    "model.add(Embedding(input_dim=num_words,\n",
    "                    output_dim=embedding_size,\n",
    "                    input_length=max_tokens,\n",
    "                    name='Embedding_layer'))\n",
    "model.add(LSTM(units=16, name='LSTM_layer'))\n",
    "model.add(Dense(3, activation='softmax', name='Output_layer'))\n",
    "optimizer = Adam(lr=1e-3)\n",
    "model.compile(loss='binary_crossentropy',\n",
    "              optimizer=optimizer,\n",
    "              metrics=['accuracy'])\n",
    "y_train_encoder = np.array(y_train_encoder)"
   ]
  },
  {
   "cell_type": "code",
   "execution_count": null,
   "metadata": {
    "colab": {
     "base_uri": "https://localhost:8080/",
     "height": 249
    },
    "colab_type": "code",
    "executionInfo": {
     "elapsed": 10969,
     "status": "ok",
     "timestamp": 1582784886313,
     "user": {
      "displayName": "Maholi Solin",
      "photoUrl": "https://lh3.googleusercontent.com/a-/AAuE7mBlkUmoc_vIcEgCoKfjr3U-x5kyu9-y4uwZ_YR9QA=s64",
      "userId": "10710053791698619486"
     },
     "user_tz": -420
    },
    "id": "qx-kPSKjVreH",
    "outputId": "0ccc180f-3c54-4c7f-c2ec-4514d294059e"
   },
   "outputs": [],
   "source": [
    "model.summary()"
   ]
  },
  {
   "cell_type": "markdown",
   "metadata": {
    "colab_type": "text",
    "id": "mQX91sIUtPs4"
   },
   "source": [
    "### Fitting model"
   ]
  },
  {
   "cell_type": "code",
   "execution_count": null,
   "metadata": {
    "colab": {
     "base_uri": "https://localhost:8080/",
     "height": 285
    },
    "colab_type": "code",
    "executionInfo": {
     "elapsed": 197516,
     "status": "ok",
     "timestamp": 1582785072865,
     "user": {
      "displayName": "Maholi Solin",
      "photoUrl": "https://lh3.googleusercontent.com/a-/AAuE7mBlkUmoc_vIcEgCoKfjr3U-x5kyu9-y4uwZ_YR9QA=s64",
      "userId": "10710053791698619486"
     },
     "user_tz": -420
    },
    "id": "3mf26PSKVqsm",
    "outputId": "91293adc-bf58-487e-d877-7c34764fa670"
   },
   "outputs": [],
   "source": [
    "model.fit(x_train_tokens, y_train_encoder, epochs=5, validation_split=0.2)"
   ]
  },
  {
   "cell_type": "markdown",
   "metadata": {
    "colab_type": "text",
    "id": "M_rbEcjeH_fk"
   },
   "source": [
    "## Save model"
   ]
  },
  {
   "cell_type": "code",
   "execution_count": null,
   "metadata": {
    "colab": {},
    "colab_type": "code",
    "id": "rNedQb1VH_Cf"
   },
   "outputs": [],
   "source": [
    "import pickle"
   ]
  },
  {
   "cell_type": "code",
   "execution_count": null,
   "metadata": {
    "colab": {},
    "colab_type": "code",
    "id": "gH97MwroINcw"
   },
   "outputs": [],
   "source": [
    "with open('tokenizer.pickle', 'wb') as handle:\n",
    "  pickle.dump(tokenizer, handle, protocol=pickle.HIGHEST_PROTOCOL)"
   ]
  },
  {
   "cell_type": "code",
   "execution_count": null,
   "metadata": {
    "colab": {},
    "colab_type": "code",
    "id": "7EYl9MrrIN6X"
   },
   "outputs": [],
   "source": [
    "model.save('model.h5')"
   ]
  },
  {
   "cell_type": "markdown",
   "metadata": {
    "colab_type": "text",
    "id": "lzF7AInCIoHe"
   },
   "source": [
    "## Load model"
   ]
  },
  {
   "cell_type": "code",
   "execution_count": null,
   "metadata": {
    "colab": {},
    "colab_type": "code",
    "id": "LX5CvIYBJKAx"
   },
   "outputs": [],
   "source": [
    "from tensorflow.python.keras.models import load_model"
   ]
  },
  {
   "cell_type": "code",
   "execution_count": null,
   "metadata": {
    "colab": {},
    "colab_type": "code",
    "id": "EUKI1MCEIq55"
   },
   "outputs": [],
   "source": [
    "with open('tokenizer.pickle', 'rb') as handle:\n",
    "    tokenizer = pickle.load(handle)"
   ]
  },
  {
   "cell_type": "code",
   "execution_count": null,
   "metadata": {
    "colab": {
     "base_uri": "https://localhost:8080/",
     "height": 186
    },
    "colab_type": "code",
    "executionInfo": {
     "elapsed": 199005,
     "status": "ok",
     "timestamp": 1582785074370,
     "user": {
      "displayName": "Maholi Solin",
      "photoUrl": "https://lh3.googleusercontent.com/a-/AAuE7mBlkUmoc_vIcEgCoKfjr3U-x5kyu9-y4uwZ_YR9QA=s64",
      "userId": "10710053791698619486"
     },
     "user_tz": -420
    },
    "id": "_HHO7QtyJGC9",
    "outputId": "e4ab6696-80cf-4415-85ab-da49a53cbcb8"
   },
   "outputs": [],
   "source": [
    "model = load_model('model.h5')"
   ]
  },
  {
   "cell_type": "markdown",
   "metadata": {
    "colab_type": "text",
    "id": "75x8tld8D9_-"
   },
   "source": [
    "## Test the model"
   ]
  },
  {
   "cell_type": "code",
   "execution_count": null,
   "metadata": {
    "colab": {},
    "colab_type": "code",
    "id": "3jvDYXxNJBcW"
   },
   "outputs": [],
   "source": [
    "x_test_tokens = tokenizer.texts_to_sequences(X_test)\n",
    "x_test_tokens = pad_sequences(x_test_tokens, maxlen=100, padding='pre', truncating='pre')"
   ]
  },
  {
   "cell_type": "code",
   "execution_count": null,
   "metadata": {
    "colab": {},
    "colab_type": "code",
    "id": "dOCI1-YTM-Z-"
   },
   "outputs": [],
   "source": [
    "y_test = one_hot_encoder(list(y_test))"
   ]
  },
  {
   "cell_type": "code",
   "execution_count": null,
   "metadata": {
    "colab": {
     "base_uri": "https://localhost:8080/",
     "height": 33
    },
    "colab_type": "code",
    "executionInfo": {
     "elapsed": 203254,
     "status": "ok",
     "timestamp": 1582785078633,
     "user": {
      "displayName": "Maholi Solin",
      "photoUrl": "https://lh3.googleusercontent.com/a-/AAuE7mBlkUmoc_vIcEgCoKfjr3U-x5kyu9-y4uwZ_YR9QA=s64",
      "userId": "10710053791698619486"
     },
     "user_tz": -420
    },
    "id": "CTeUs76XNC0U",
    "outputId": "30002f09-4ea8-4e6e-e132-42f5d0f9854a"
   },
   "outputs": [],
   "source": [
    "scores = model.evaluate(x_test_tokens, y_test, verbose=0)\n",
    "print('Test accuracy:', scores[1])"
   ]
  },
  {
   "cell_type": "markdown",
   "metadata": {
    "colab_type": "text",
    "id": "vDgGGAStD0Z_"
   },
   "source": [
    "## Predict sentence"
   ]
  },
  {
   "cell_type": "code",
   "execution_count": null,
   "metadata": {
    "colab": {},
    "colab_type": "code",
    "id": "KpnSZk4HNGZP"
   },
   "outputs": [],
   "source": [
    "def predict(sent):\n",
    "  sent = tokenizer.texts_to_sequences([sent])\n",
    "  sent = pad_sequences(sent, maxlen=100, padding='pre', truncating='pre')\n",
    "  return class_label[int(model.predict_classes(sent))]"
   ]
  },
  {
   "cell_type": "code",
   "execution_count": null,
   "metadata": {
    "colab": {
     "base_uri": "https://localhost:8080/",
     "height": 33
    },
    "colab_type": "code",
    "executionInfo": {
     "elapsed": 1310,
     "status": "ok",
     "timestamp": 1582785147318,
     "user": {
      "displayName": "Maholi Solin",
      "photoUrl": "https://lh3.googleusercontent.com/a-/AAuE7mBlkUmoc_vIcEgCoKfjr3U-x5kyu9-y4uwZ_YR9QA=s64",
      "userId": "10710053791698619486"
     },
     "user_tz": -420
    },
    "id": "o-fcIowUR3yW",
    "outputId": "e9caa58e-a3b3-4a7e-df65-30a3c922fec0"
   },
   "outputs": [],
   "source": [
    "sent = '''you are sucks'''\n",
    "predict(sent)"
   ]
  },
  {
   "cell_type": "code",
   "execution_count": null,
   "metadata": {
    "colab": {
     "base_uri": "https://localhost:8080/",
     "height": 33
    },
    "colab_type": "code",
    "executionInfo": {
     "elapsed": 203243,
     "status": "ok",
     "timestamp": 1582785078636,
     "user": {
      "displayName": "Maholi Solin",
      "photoUrl": "https://lh3.googleusercontent.com/a-/AAuE7mBlkUmoc_vIcEgCoKfjr3U-x5kyu9-y4uwZ_YR9QA=s64",
      "userId": "10710053791698619486"
     },
     "user_tz": -420
    },
    "id": "4S1Irq962kEk",
    "outputId": "ed11acc3-efde-40d8-c888-04bfbf33e6ff"
   },
   "outputs": [],
   "source": [
    "sent = '''@United rescheduled my return flight from #Japan?  Uh why?  Trying to call #UnitedAirlines #customerservice - 45 min wait.  #fun'''\n",
    "predict(sent)"
   ]
  }
 ],
 "metadata": {
  "accelerator": "GPU",
  "colab": {
   "name": "4. RNN for Sentiment Analytics.ipynb",
   "provenance": [],
   "toc_visible": true
  },
  "kernelspec": {
   "display_name": "Python 3",
   "language": "python",
   "name": "python3"
  },
  "language_info": {
   "codemirror_mode": {
    "name": "ipython",
    "version": 3
   },
   "file_extension": ".py",
   "mimetype": "text/x-python",
   "name": "python",
   "nbconvert_exporter": "python",
   "pygments_lexer": "ipython3",
   "version": "3.6.6"
  }
 },
 "nbformat": 4,
 "nbformat_minor": 1
}
