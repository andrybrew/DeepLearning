{
 "cells": [
  {
   "cell_type": "markdown",
   "metadata": {
    "colab_type": "text",
    "id": "5qCPMrUfMfkF"
   },
   "source": [
    "# Convolutional Neural Network"
   ]
  },
  {
   "cell_type": "markdown",
   "metadata": {
    "colab_type": "text",
    "id": "azVjFJopuVx8"
   },
   "source": [
    "## Import Module"
   ]
  },
  {
   "cell_type": "code",
   "execution_count": null,
   "metadata": {
    "colab": {
     "base_uri": "https://localhost:8080/",
     "height": 62
    },
    "colab_type": "code",
    "executionInfo": {
     "elapsed": 3217,
     "status": "ok",
     "timestamp": 1582782439539,
     "user": {
      "displayName": "Fahmi Salman Nurfikri",
      "photoUrl": "https://lh3.googleusercontent.com/a-/AAuE7mB_93ZyQzhJQaBdhgB2CFJpA4zNNzuRFkY4ThiPUg=s64",
      "userId": "00245196995893858079"
     },
     "user_tz": -420
    },
    "id": "B--XziXZGtVc",
    "outputId": "4b360dde-30c7-43de-8814-bae23549c99b"
   },
   "outputs": [],
   "source": [
    "# TensorFlow and tf.keras\n",
    "import tensorflow as tf\n",
    "from tensorflow.keras import datasets, layers, models\n",
    "\n",
    "# Helper libraries\n",
    "import numpy as np\n",
    "import matplotlib.pyplot as plt"
   ]
  },
  {
   "cell_type": "code",
   "execution_count": null,
   "metadata": {
    "colab": {
     "base_uri": "https://localhost:8080/",
     "height": 32
    },
    "colab_type": "code",
    "executionInfo": {
     "elapsed": 5072,
     "status": "ok",
     "timestamp": 1582782441422,
     "user": {
      "displayName": "Fahmi Salman Nurfikri",
      "photoUrl": "https://lh3.googleusercontent.com/a-/AAuE7mB_93ZyQzhJQaBdhgB2CFJpA4zNNzuRFkY4ThiPUg=s64",
      "userId": "00245196995893858079"
     },
     "user_tz": -420
    },
    "id": "R2peWZDoHLZb",
    "outputId": "1747fa10-c441-4ce1-9e3d-2a3c8d96cfdd"
   },
   "outputs": [],
   "source": [
    "# Check if GPU is activate\n",
    "device_name = tf.test.gpu_device_name()\n",
    "if device_name != '/device:GPU:0':\n",
    "  raise SystemError('GPU device not found')\n",
    "print('Found GPU at: {}'.format(device_name))"
   ]
  },
  {
   "cell_type": "markdown",
   "metadata": {
    "colab_type": "text",
    "id": "Nfx9JqZa0Mr6"
   },
   "source": [
    "## Preprocessing"
   ]
  },
  {
   "cell_type": "markdown",
   "metadata": {
    "colab_type": "text",
    "id": "-v6KhZ39Mmb7"
   },
   "source": [
    "### Load the Fashion mnist dataset\n",
    "\n",
    "![alt text](https://www.tensorflow.org/images/fashion-mnist-sprite.png)\n",
    "src: https://www.tensorflow.org/tutorials/keras/classification"
   ]
  },
  {
   "cell_type": "code",
   "execution_count": null,
   "metadata": {
    "colab": {
     "base_uri": "https://localhost:8080/",
     "height": 148
    },
    "colab_type": "code",
    "executionInfo": {
     "elapsed": 6229,
     "status": "ok",
     "timestamp": 1582782442582,
     "user": {
      "displayName": "Fahmi Salman Nurfikri",
      "photoUrl": "https://lh3.googleusercontent.com/a-/AAuE7mB_93ZyQzhJQaBdhgB2CFJpA4zNNzuRFkY4ThiPUg=s64",
      "userId": "00245196995893858079"
     },
     "user_tz": -420
    },
    "id": "39729e1_HO7M",
    "outputId": "0797a478-fcdd-46cf-c739-b4e57ac5a65a"
   },
   "outputs": [],
   "source": [
    "# Load fashion mnist dataset\n",
    "mnist = datasets.fashion_mnist\n",
    "\n",
    "(train_images, train_labels), (test_images, test_labels) = mnist.load_data()"
   ]
  },
  {
   "cell_type": "markdown",
   "metadata": {
    "colab_type": "text",
    "id": "EbceWjKgGHhM"
   },
   "source": [
    "### Define the class"
   ]
  },
  {
   "cell_type": "code",
   "execution_count": null,
   "metadata": {
    "colab": {},
    "colab_type": "code",
    "id": "k5ajV8lUXqW8"
   },
   "outputs": [],
   "source": [
    "class_names = ['t_shirt', 'trouser', 'pullover', 'dress', 'coat', 'sandal', 'shirt', 'sneaker', 'bag', 'ankle_boots']"
   ]
  },
  {
   "cell_type": "code",
   "execution_count": null,
   "metadata": {
    "colab": {
     "base_uri": "https://localhost:8080/",
     "height": 588
    },
    "colab_type": "code",
    "executionInfo": {
     "elapsed": 8909,
     "status": "ok",
     "timestamp": 1582782445284,
     "user": {
      "displayName": "Fahmi Salman Nurfikri",
      "photoUrl": "https://lh3.googleusercontent.com/a-/AAuE7mB_93ZyQzhJQaBdhgB2CFJpA4zNNzuRFkY4ThiPUg=s64",
      "userId": "00245196995893858079"
     },
     "user_tz": -420
    },
    "id": "gonvxJfRXy3m",
    "outputId": "9eb4f1eb-21e4-448e-d776-22a2008afcdb"
   },
   "outputs": [],
   "source": [
    "# View sample data\n",
    "plt.figure(figsize=(10,10))\n",
    "for i in range(25):\n",
    "    plt.subplot(5,5,i+1)\n",
    "    plt.xticks([])\n",
    "    plt.yticks([])\n",
    "    plt.grid(False)\n",
    "    plt.imshow(train_images[i], cmap=plt.cm.binary)\n",
    "    plt.xlabel(class_names[train_labels[i]])\n",
    "plt.show()"
   ]
  },
  {
   "cell_type": "markdown",
   "metadata": {
    "colab_type": "text",
    "id": "EG_9OEwnutf1"
   },
   "source": [
    "## Data exploration"
   ]
  },
  {
   "cell_type": "code",
   "execution_count": null,
   "metadata": {
    "colab": {
     "base_uri": "https://localhost:8080/",
     "height": 32
    },
    "colab_type": "code",
    "executionInfo": {
     "elapsed": 8889,
     "status": "ok",
     "timestamp": 1582782445285,
     "user": {
      "displayName": "Fahmi Salman Nurfikri",
      "photoUrl": "https://lh3.googleusercontent.com/a-/AAuE7mB_93ZyQzhJQaBdhgB2CFJpA4zNNzuRFkY4ThiPUg=s64",
      "userId": "00245196995893858079"
     },
     "user_tz": -420
    },
    "id": "9S5-GmncmPTo",
    "outputId": "2af75505-6e7a-46e2-e150-efca71467201"
   },
   "outputs": [],
   "source": [
    "# Show data shape\n",
    "train_images.shape"
   ]
  },
  {
   "cell_type": "code",
   "execution_count": null,
   "metadata": {
    "colab": {
     "base_uri": "https://localhost:8080/",
     "height": 823
    },
    "colab_type": "code",
    "executionInfo": {
     "elapsed": 8872,
     "status": "ok",
     "timestamp": 1582782445287,
     "user": {
      "displayName": "Fahmi Salman Nurfikri",
      "photoUrl": "https://lh3.googleusercontent.com/a-/AAuE7mB_93ZyQzhJQaBdhgB2CFJpA4zNNzuRFkY4ThiPUg=s64",
      "userId": "00245196995893858079"
     },
     "user_tz": -420
    },
    "id": "mmtMnLyKl8bY",
    "outputId": "df01e446-1784-45bf-fde1-64f1528cb2dd"
   },
   "outputs": [],
   "source": [
    "train_images"
   ]
  },
  {
   "cell_type": "code",
   "execution_count": null,
   "metadata": {
    "colab": {
     "base_uri": "https://localhost:8080/",
     "height": 1000
    },
    "colab_type": "code",
    "executionInfo": {
     "elapsed": 8853,
     "status": "ok",
     "timestamp": 1582782445287,
     "user": {
      "displayName": "Fahmi Salman Nurfikri",
      "photoUrl": "https://lh3.googleusercontent.com/a-/AAuE7mB_93ZyQzhJQaBdhgB2CFJpA4zNNzuRFkY4ThiPUg=s64",
      "userId": "00245196995893858079"
     },
     "user_tz": -420
    },
    "id": "fX2T6M58l-OW",
    "outputId": "f0120133-a225-4968-dc89-e4e65835214f"
   },
   "outputs": [],
   "source": [
    "train_images[0]"
   ]
  },
  {
   "cell_type": "code",
   "execution_count": null,
   "metadata": {
    "colab": {},
    "colab_type": "code",
    "id": "dJAvPTRHKGJE"
   },
   "outputs": [],
   "source": [
    "train_images = train_images.reshape(train_images.shape[0], 28, 28, 1)\n",
    "test_images = test_images.reshape(test_images.shape[0], 28, 28, 1)"
   ]
  },
  {
   "cell_type": "code",
   "execution_count": null,
   "metadata": {
    "colab": {
     "base_uri": "https://localhost:8080/",
     "height": 32
    },
    "colab_type": "code",
    "executionInfo": {
     "elapsed": 8831,
     "status": "ok",
     "timestamp": 1582782445289,
     "user": {
      "displayName": "Fahmi Salman Nurfikri",
      "photoUrl": "https://lh3.googleusercontent.com/a-/AAuE7mB_93ZyQzhJQaBdhgB2CFJpA4zNNzuRFkY4ThiPUg=s64",
      "userId": "00245196995893858079"
     },
     "user_tz": -420
    },
    "id": "C-Ls2Qs5mVQ6",
    "outputId": "7c3db1df-af00-4ff0-8743-1ce201d94a2c"
   },
   "outputs": [],
   "source": [
    "train_images.shape"
   ]
  },
  {
   "cell_type": "code",
   "execution_count": null,
   "metadata": {
    "colab": {
     "base_uri": "https://localhost:8080/",
     "height": 1000
    },
    "colab_type": "code",
    "executionInfo": {
     "elapsed": 8813,
     "status": "ok",
     "timestamp": 1582782445290,
     "user": {
      "displayName": "Fahmi Salman Nurfikri",
      "photoUrl": "https://lh3.googleusercontent.com/a-/AAuE7mB_93ZyQzhJQaBdhgB2CFJpA4zNNzuRFkY4ThiPUg=s64",
      "userId": "00245196995893858079"
     },
     "user_tz": -420
    },
    "id": "RYzYkf9bmF-i",
    "outputId": "1cccf1c5-286d-44d0-c91f-d48425096684"
   },
   "outputs": [],
   "source": [
    "train_images"
   ]
  },
  {
   "cell_type": "code",
   "execution_count": null,
   "metadata": {
    "colab": {
     "base_uri": "https://localhost:8080/",
     "height": 1000
    },
    "colab_type": "code",
    "executionInfo": {
     "elapsed": 8793,
     "status": "ok",
     "timestamp": 1582782445290,
     "user": {
      "displayName": "Fahmi Salman Nurfikri",
      "photoUrl": "https://lh3.googleusercontent.com/a-/AAuE7mB_93ZyQzhJQaBdhgB2CFJpA4zNNzuRFkY4ThiPUg=s64",
      "userId": "00245196995893858079"
     },
     "user_tz": -420
    },
    "id": "R_zUBJtOmLWw",
    "outputId": "79c5ef4c-f57f-402e-c1f0-72598f075c00"
   },
   "outputs": [],
   "source": [
    "train_images[0]"
   ]
  },
  {
   "cell_type": "code",
   "execution_count": null,
   "metadata": {
    "colab": {},
    "colab_type": "code",
    "id": "QiLGwHeaISs0"
   },
   "outputs": [],
   "source": [
    "train_images = train_images / 255.0\n",
    "test_images = test_images / 255.0"
   ]
  },
  {
   "cell_type": "markdown",
   "metadata": {
    "colab_type": "text",
    "id": "ykP-apbz0YIN"
   },
   "source": [
    "## Build the model"
   ]
  },
  {
   "cell_type": "markdown",
   "metadata": {
    "colab_type": "text",
    "id": "qx0MTKlXLQGG"
   },
   "source": [
    "![Convolutional Neural Network Architecture](https://upload.wikimedia.org/wikipedia/commons/6/63/Typical_cnn.png)\n",
    "\n",
    "Source: https://en.wikipedia.org/wiki/Convolutional_neural_network"
   ]
  },
  {
   "cell_type": "markdown",
   "metadata": {
    "colab_type": "text",
    "id": "AMz23tHz0cuS"
   },
   "source": [
    "### Define the model"
   ]
  },
  {
   "cell_type": "markdown",
   "metadata": {
    "colab_type": "text",
    "id": "c4UhQ8CZe3EZ"
   },
   "source": [
    "The following example uses a standard conv-net that has 3 layers with drop-out and batch normalization between each layer.\n",
    "\n",
    "Src: https://research.google.com/seedbank/seed/fashion_mnist_with_keras_and_tpus"
   ]
  },
  {
   "cell_type": "code",
   "execution_count": null,
   "metadata": {
    "colab": {
     "base_uri": "https://localhost:8080/",
     "height": 85
    },
    "colab_type": "code",
    "executionInfo": {
     "elapsed": 8772,
     "status": "ok",
     "timestamp": 1582782445292,
     "user": {
      "displayName": "Fahmi Salman Nurfikri",
      "photoUrl": "https://lh3.googleusercontent.com/a-/AAuE7mB_93ZyQzhJQaBdhgB2CFJpA4zNNzuRFkY4ThiPUg=s64",
      "userId": "00245196995893858079"
     },
     "user_tz": -420
    },
    "id": "m-Tk2VEfHRVt",
    "outputId": "67101989-ffb3-4639-a2d4-15cbe65f2acb"
   },
   "outputs": [],
   "source": [
    "model = models.Sequential()\n",
    "model.add(layers.BatchNormalization(input_shape=(28, 28, 1)))\n",
    "model.add(layers.Conv2D(64, (5, 5), padding='same', activation='elu'))\n",
    "model.add(layers.MaxPooling2D(pool_size=(2, 2), strides=(2,2)))\n",
    "model.add(layers.Dropout(0.25))\n",
    "\n",
    "model.add(layers.BatchNormalization(input_shape=(28, 28, 1)))\n",
    "model.add(layers.Conv2D(128, (5, 5), padding='same', activation='elu'))\n",
    "model.add(layers.MaxPooling2D(pool_size=(2, 2)))\n",
    "model.add(layers.Dropout(0.25))\n",
    "\n",
    "model.add(layers.Flatten())\n",
    "model.add(layers.Dense(256))\n",
    "model.add(layers.Activation('elu'))\n",
    "model.add(layers.Dropout(0.5))\n",
    "model.add(layers.Dense(10))\n",
    "model.add(layers.Activation('softmax'))"
   ]
  },
  {
   "cell_type": "code",
   "execution_count": null,
   "metadata": {
    "colab": {},
    "colab_type": "code",
    "id": "9VxspG9yHjuU"
   },
   "outputs": [],
   "source": [
    "model.compile(optimizer='adam',\n",
    "              loss='sparse_categorical_crossentropy',\n",
    "              metrics=['accuracy'])"
   ]
  },
  {
   "cell_type": "code",
   "execution_count": null,
   "metadata": {
    "colab": {
     "base_uri": "https://localhost:8080/",
     "height": 609
    },
    "colab_type": "code",
    "executionInfo": {
     "elapsed": 8750,
     "status": "ok",
     "timestamp": 1582782445293,
     "user": {
      "displayName": "Fahmi Salman Nurfikri",
      "photoUrl": "https://lh3.googleusercontent.com/a-/AAuE7mB_93ZyQzhJQaBdhgB2CFJpA4zNNzuRFkY4ThiPUg=s64",
      "userId": "00245196995893858079"
     },
     "user_tz": -420
    },
    "id": "J4ZTIfuIYmuM",
    "outputId": "1ccc53a5-1324-4597-c671-4659a84a77e4"
   },
   "outputs": [],
   "source": [
    "model.summary()"
   ]
  },
  {
   "cell_type": "markdown",
   "metadata": {
    "colab_type": "text",
    "id": "y7Gw0Ffc0ihU"
   },
   "source": [
    "### Fiting model"
   ]
  },
  {
   "cell_type": "code",
   "execution_count": null,
   "metadata": {
    "colab": {
     "base_uri": "https://localhost:8080/",
     "height": 214
    },
    "colab_type": "code",
    "executionInfo": {
     "elapsed": 70666,
     "status": "ok",
     "timestamp": 1582782507228,
     "user": {
      "displayName": "Fahmi Salman Nurfikri",
      "photoUrl": "https://lh3.googleusercontent.com/a-/AAuE7mB_93ZyQzhJQaBdhgB2CFJpA4zNNzuRFkY4ThiPUg=s64",
      "userId": "00245196995893858079"
     },
     "user_tz": -420
    },
    "id": "91wmrci1Hy1T",
    "outputId": "b4e54674-dc1d-4731-97dd-4277afabef39"
   },
   "outputs": [],
   "source": [
    "model.fit(train_images, train_labels, epochs=5)"
   ]
  },
  {
   "cell_type": "markdown",
   "metadata": {
    "colab_type": "text",
    "id": "DWAmeQRd0zNG"
   },
   "source": [
    "### Testing model"
   ]
  },
  {
   "cell_type": "code",
   "execution_count": null,
   "metadata": {
    "colab": {
     "base_uri": "https://localhost:8080/",
     "height": 65
    },
    "colab_type": "code",
    "executionInfo": {
     "elapsed": 72231,
     "status": "ok",
     "timestamp": 1582782508815,
     "user": {
      "displayName": "Fahmi Salman Nurfikri",
      "photoUrl": "https://lh3.googleusercontent.com/a-/AAuE7mB_93ZyQzhJQaBdhgB2CFJpA4zNNzuRFkY4ThiPUg=s64",
      "userId": "00245196995893858079"
     },
     "user_tz": -420
    },
    "id": "hYbvyUvIH1ZS",
    "outputId": "96dd5eda-858d-45ec-8af7-5ad0ca9676a8"
   },
   "outputs": [],
   "source": [
    "test_loss, test_acc = model.evaluate(test_images, test_labels, verbose=2)\n",
    "\n",
    "print('\\nTest accuracy:', test_acc)"
   ]
  },
  {
   "cell_type": "markdown",
   "metadata": {
    "colab_type": "text",
    "id": "x8GJR4S30DkG"
   },
   "source": [
    "### Image predict"
   ]
  },
  {
   "cell_type": "code",
   "execution_count": null,
   "metadata": {
    "colab": {},
    "colab_type": "code",
    "id": "UHUQoLbdbyE8"
   },
   "outputs": [],
   "source": [
    "predictions = model.predict(test_images)"
   ]
  },
  {
   "cell_type": "code",
   "execution_count": null,
   "metadata": {
    "colab": {
     "base_uri": "https://localhost:8080/",
     "height": 65
    },
    "colab_type": "code",
    "executionInfo": {
     "elapsed": 72209,
     "status": "ok",
     "timestamp": 1582782508817,
     "user": {
      "displayName": "Fahmi Salman Nurfikri",
      "photoUrl": "https://lh3.googleusercontent.com/a-/AAuE7mB_93ZyQzhJQaBdhgB2CFJpA4zNNzuRFkY4ThiPUg=s64",
      "userId": "00245196995893858079"
     },
     "user_tz": -420
    },
    "id": "fBePYOCOb9Ur",
    "outputId": "7cd326b5-801c-4657-b79c-71be85282ba7"
   },
   "outputs": [],
   "source": [
    "predictions[0]"
   ]
  },
  {
   "cell_type": "code",
   "execution_count": null,
   "metadata": {
    "colab": {
     "base_uri": "https://localhost:8080/",
     "height": 32
    },
    "colab_type": "code",
    "executionInfo": {
     "elapsed": 72191,
     "status": "ok",
     "timestamp": 1582782508818,
     "user": {
      "displayName": "Fahmi Salman Nurfikri",
      "photoUrl": "https://lh3.googleusercontent.com/a-/AAuE7mB_93ZyQzhJQaBdhgB2CFJpA4zNNzuRFkY4ThiPUg=s64",
      "userId": "00245196995893858079"
     },
     "user_tz": -420
    },
    "id": "6qklXe2slHKI",
    "outputId": "d4259699-e0c0-42d0-dcec-df3d9bcb168b"
   },
   "outputs": [],
   "source": [
    "np.argmax(predictions[0])"
   ]
  },
  {
   "cell_type": "code",
   "execution_count": null,
   "metadata": {
    "colab": {
     "base_uri": "https://localhost:8080/",
     "height": 32
    },
    "colab_type": "code",
    "executionInfo": {
     "elapsed": 72173,
     "status": "ok",
     "timestamp": 1582782508819,
     "user": {
      "displayName": "Fahmi Salman Nurfikri",
      "photoUrl": "https://lh3.googleusercontent.com/a-/AAuE7mB_93ZyQzhJQaBdhgB2CFJpA4zNNzuRFkY4ThiPUg=s64",
      "userId": "00245196995893858079"
     },
     "user_tz": -420
    },
    "id": "OBpv0XNQb-rL",
    "outputId": "70618344-a344-46ab-9c8e-c4d006665e31"
   },
   "outputs": [],
   "source": [
    "class_names[np.argmax(predictions[0])]"
   ]
  },
  {
   "cell_type": "code",
   "execution_count": null,
   "metadata": {
    "colab": {},
    "colab_type": "code",
    "id": "nVndFoatI7PC"
   },
   "outputs": [],
   "source": [
    "def plot_image(i, predictions_array, true_label, img):\n",
    "  predictions_array, true_label, img = predictions_array, true_label[i], img[i]\n",
    "  plt.grid(False)\n",
    "  plt.xticks([])\n",
    "  plt.yticks([])\n",
    "\n",
    "  plt.imshow(img, cmap=plt.cm.binary)\n",
    "\n",
    "  predicted_label = np.argmax(predictions_array)\n",
    "  if predicted_label == true_label:\n",
    "    color = 'blue'\n",
    "  else:\n",
    "    color = 'red'\n",
    "\n",
    "  plt.xlabel(\"{} {:2.0f}% ({})\".format(class_names[predicted_label],\n",
    "                                100*np.max(predictions_array),\n",
    "                                class_names[true_label]),\n",
    "                                color=color)\n",
    "\n",
    "def plot_value_array(i, predictions_array, true_label):\n",
    "  predictions_array, true_label = predictions_array, true_label[i]\n",
    "  plt.grid(False)\n",
    "  plt.xticks(range(10))\n",
    "  plt.yticks([])\n",
    "  thisplot = plt.bar(range(10), predictions_array, color=\"#777777\")\n",
    "  plt.ylim([0, 1])\n",
    "  predicted_label = np.argmax(predictions_array)\n",
    "\n",
    "  thisplot[predicted_label].set_color('red')\n",
    "  thisplot[true_label].set_color('blue')"
   ]
  },
  {
   "cell_type": "code",
   "execution_count": null,
   "metadata": {
    "colab": {
     "base_uri": "https://localhost:8080/",
     "height": 209
    },
    "colab_type": "code",
    "executionInfo": {
     "elapsed": 72151,
     "status": "ok",
     "timestamp": 1582782508820,
     "user": {
      "displayName": "Fahmi Salman Nurfikri",
      "photoUrl": "https://lh3.googleusercontent.com/a-/AAuE7mB_93ZyQzhJQaBdhgB2CFJpA4zNNzuRFkY4ThiPUg=s64",
      "userId": "00245196995893858079"
     },
     "user_tz": -420
    },
    "id": "KR8GObMVcEyi",
    "outputId": "c21e53f2-0858-47b7-bf10-10009f794e89"
   },
   "outputs": [],
   "source": [
    "i = 0\n",
    "plt.figure(figsize=(6,3))\n",
    "plt.subplot(1,2,1)\n",
    "plot_image(i, predictions[i], test_labels, test_images.reshape(test_images.shape[0], 28, 28))\n",
    "plt.subplot(1,2,2)\n",
    "plot_value_array(i, predictions[i],  test_labels)\n",
    "plt.show()"
   ]
  },
  {
   "cell_type": "code",
   "execution_count": null,
   "metadata": {
    "colab": {
     "base_uri": "https://localhost:8080/",
     "height": 209
    },
    "colab_type": "code",
    "executionInfo": {
     "elapsed": 72589,
     "status": "ok",
     "timestamp": 1582782509277,
     "user": {
      "displayName": "Fahmi Salman Nurfikri",
      "photoUrl": "https://lh3.googleusercontent.com/a-/AAuE7mB_93ZyQzhJQaBdhgB2CFJpA4zNNzuRFkY4ThiPUg=s64",
      "userId": "00245196995893858079"
     },
     "user_tz": -420
    },
    "id": "NgfE_aZGdbZi",
    "outputId": "32f1ef74-0369-4078-d3eb-bc91825aa8b9"
   },
   "outputs": [],
   "source": [
    "i = 12\n",
    "plt.figure(figsize=(6,3))\n",
    "plt.subplot(1,2,1)\n",
    "plot_image(i, predictions[i], test_labels, test_images.reshape(test_images.shape[0], 28, 28))\n",
    "plt.subplot(1,2,2)\n",
    "plot_value_array(i, predictions[i],  test_labels)\n",
    "plt.show()"
   ]
  },
  {
   "cell_type": "code",
   "execution_count": null,
   "metadata": {
    "colab": {
     "base_uri": "https://localhost:8080/",
     "height": 728
    },
    "colab_type": "code",
    "executionInfo": {
     "elapsed": 75705,
     "status": "ok",
     "timestamp": 1582782512411,
     "user": {
      "displayName": "Fahmi Salman Nurfikri",
      "photoUrl": "https://lh3.googleusercontent.com/a-/AAuE7mB_93ZyQzhJQaBdhgB2CFJpA4zNNzuRFkY4ThiPUg=s64",
      "userId": "00245196995893858079"
     },
     "user_tz": -420
    },
    "id": "xnEl_ZuabsED",
    "outputId": "bdd18d7b-2898-4226-b7af-bc8489766dcd"
   },
   "outputs": [],
   "source": [
    "# Plot the first X test images, their predicted labels, and the true labels.\n",
    "# Color correct predictions in blue and incorrect predictions in red.\n",
    "num_rows = 5\n",
    "num_cols = 3\n",
    "num_images = num_rows*num_cols\n",
    "plt.figure(figsize=(2*2*num_cols, 2*num_rows))\n",
    "for i in range(num_images):\n",
    "  plt.subplot(num_rows, 2*num_cols, 2*i+1)\n",
    "  plot_image(i, predictions[i], test_labels, test_images.reshape(test_images.shape[0], 28, 28))\n",
    "  plt.subplot(num_rows, 2*num_cols, 2*i+2)\n",
    "  plot_value_array(i, predictions[i], test_labels)\n",
    "plt.tight_layout()\n",
    "plt.show()"
   ]
  },
  {
   "cell_type": "markdown",
   "metadata": {
    "colab_type": "text",
    "id": "CCUyvTeQykNR"
   },
   "source": [
    "## Try your own"
   ]
  },
  {
   "cell_type": "markdown",
   "metadata": {
    "colab_type": "text",
    "id": "FePoFRDTyoWf"
   },
   "source": [
    "### Download images from Internet"
   ]
  },
  {
   "cell_type": "code",
   "execution_count": null,
   "metadata": {
    "colab": {
     "base_uri": "https://localhost:8080/",
     "height": 217
    },
    "colab_type": "code",
    "executionInfo": {
     "elapsed": 79579,
     "status": "ok",
     "timestamp": 1582782516305,
     "user": {
      "displayName": "Fahmi Salman Nurfikri",
      "photoUrl": "https://lh3.googleusercontent.com/a-/AAuE7mB_93ZyQzhJQaBdhgB2CFJpA4zNNzuRFkY4ThiPUg=s64",
      "userId": "00245196995893858079"
     },
     "user_tz": -420
    },
    "id": "x_7KevDEyfXD",
    "outputId": "1881c670-b12a-4b3e-97f8-f9fc3f6c5811"
   },
   "outputs": [],
   "source": [
    "!wget 'https://cdn11.bigcommerce.com/s-rxzabllq/images/stencil/1280x1280/products/910/18045/Kids-Plain-Poly-Fit-Quick_Dry-Tshirt-red__13799.1567089094.jpg?c=2'"
   ]
  },
  {
   "cell_type": "markdown",
   "metadata": {
    "colab_type": "text",
    "id": "OG6zYMRkyvTh"
   },
   "source": [
    "### Load images from files"
   ]
  },
  {
   "cell_type": "code",
   "execution_count": null,
   "metadata": {
    "colab": {
     "base_uri": "https://localhost:8080/",
     "height": 1000
    },
    "colab_type": "code",
    "executionInfo": {
     "elapsed": 81346,
     "status": "ok",
     "timestamp": 1582782518092,
     "user": {
      "displayName": "Fahmi Salman Nurfikri",
      "photoUrl": "https://lh3.googleusercontent.com/a-/AAuE7mB_93ZyQzhJQaBdhgB2CFJpA4zNNzuRFkY4ThiPUg=s64",
      "userId": "00245196995893858079"
     },
     "user_tz": -420
    },
    "id": "Bv_SwHcodJKb",
    "outputId": "7a7f277e-9e5c-42df-b7b9-3384310fedef"
   },
   "outputs": [],
   "source": [
    "from PIL import Image, ImageOps\n",
    "from keras.preprocessing.image import load_img\n",
    "\n",
    "file_loc = '/content/Kids-Plain-Poly-Fit-Quick_Dry-Tshirt-red__13799.1567089094.jpg?c=2'\n",
    "img = load_img(file_loc, grayscale=True)\n",
    "img"
   ]
  },
  {
   "cell_type": "markdown",
   "metadata": {
    "colab_type": "text",
    "id": "F5nWTafM0FXa"
   },
   "source": [
    "## Create Prediction function"
   ]
  },
  {
   "cell_type": "code",
   "execution_count": null,
   "metadata": {
    "colab": {},
    "colab_type": "code",
    "id": "zpKEbOjqq47m"
   },
   "outputs": [],
   "source": [
    "def predict(img):\n",
    "  new_width  = 28\n",
    "  new_height = 28\n",
    "  img = np.array(ImageOps.invert(img.resize((new_width, new_height), Image.ANTIALIAS)))\n",
    "  img = img / 255\n",
    "  plt.figure(figsize=(6,3))\n",
    "  plt.subplot(1,2,1)\n",
    "  plt.imshow(img, cmap=plt.cm.binary)\n",
    "  plt.subplot(1,2,2)\n",
    "  predictions_array = model.predict(img.reshape(1, 28, 28, 1))\n",
    "  plt.grid(False)\n",
    "  plt.xticks(range(10))\n",
    "  plt.yticks([])\n",
    "  thisplot = plt.bar(range(10), predictions_array[0], color=\"#777777\")\n",
    "  plt.ylim([0, 1])\n",
    "  predicted_label = np.argmax(predictions_array)\n",
    "  plt.show()\n",
    "  return class_names[np.argmax(model.predict(img.reshape(1, 28, 28, 1)))]"
   ]
  },
  {
   "cell_type": "code",
   "execution_count": null,
   "metadata": {
    "colab": {
     "base_uri": "https://localhost:8080/",
     "height": 225
    },
    "colab_type": "code",
    "executionInfo": {
     "elapsed": 81326,
     "status": "ok",
     "timestamp": 1582782518094,
     "user": {
      "displayName": "Fahmi Salman Nurfikri",
      "photoUrl": "https://lh3.googleusercontent.com/a-/AAuE7mB_93ZyQzhJQaBdhgB2CFJpA4zNNzuRFkY4ThiPUg=s64",
      "userId": "00245196995893858079"
     },
     "user_tz": -420
    },
    "id": "1k0Lp7VokYBS",
    "outputId": "044b6ecf-2066-409c-fe8c-b55a70a973ba"
   },
   "outputs": [],
   "source": [
    "predict(img)"
   ]
  },
  {
   "cell_type": "code",
   "execution_count": null,
   "metadata": {
    "colab": {},
    "colab_type": "code",
    "id": "mOzlyN_Pw1PB"
   },
   "outputs": [],
   "source": []
  }
 ],
 "metadata": {
  "accelerator": "GPU",
  "colab": {
   "name": "3. Convolutional Neural Network.ipynb",
   "provenance": [],
   "toc_visible": true
  },
  "kernelspec": {
   "display_name": "Python 3",
   "language": "python",
   "name": "python3"
  },
  "language_info": {
   "codemirror_mode": {
    "name": "ipython",
    "version": 3
   },
   "file_extension": ".py",
   "mimetype": "text/x-python",
   "name": "python",
   "nbconvert_exporter": "python",
   "pygments_lexer": "ipython3",
   "version": "3.6.6"
  }
 },
 "nbformat": 4,
 "nbformat_minor": 1
}
