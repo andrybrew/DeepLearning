{
 "cells": [
  {
   "cell_type": "markdown",
   "metadata": {
    "colab_type": "text",
    "id": "w0-Q0h8p1out"
   },
   "source": [
    "# Convolutional Neural Network"
   ]
  },
  {
   "cell_type": "markdown",
   "metadata": {
    "colab_type": "text",
    "id": "UlgcYxDJ1oY9"
   },
   "source": [
    "## Import Module"
   ]
  },
  {
   "cell_type": "code",
   "execution_count": null,
   "metadata": {
    "colab": {
     "base_uri": "https://localhost:8080/",
     "height": 62
    },
    "colab_type": "code",
    "executionInfo": {
     "elapsed": 1849,
     "status": "ok",
     "timestamp": 1582692832265,
     "user": {
      "displayName": "Fahmi Salman Nurfikri",
      "photoUrl": "https://lh3.googleusercontent.com/a-/AAuE7mB_93ZyQzhJQaBdhgB2CFJpA4zNNzuRFkY4ThiPUg=s64",
      "userId": "00245196995893858079"
     },
     "user_tz": -420
    },
    "id": "B--XziXZGtVc",
    "outputId": "58bfad85-a637-488e-8099-c1065cebbb31"
   },
   "outputs": [],
   "source": [
    "# TensorFlow and tf.keras\n",
    "import tensorflow as tf\n",
    "from tensorflow.keras import datasets, layers, models\n",
    "\n",
    "# Helper libraries\n",
    "import numpy as np\n",
    "import matplotlib.pyplot as plt"
   ]
  },
  {
   "cell_type": "code",
   "execution_count": null,
   "metadata": {
    "colab": {
     "base_uri": "https://localhost:8080/",
     "height": 32
    },
    "colab_type": "code",
    "executionInfo": {
     "elapsed": 4316,
     "status": "ok",
     "timestamp": 1582692834761,
     "user": {
      "displayName": "Fahmi Salman Nurfikri",
      "photoUrl": "https://lh3.googleusercontent.com/a-/AAuE7mB_93ZyQzhJQaBdhgB2CFJpA4zNNzuRFkY4ThiPUg=s64",
      "userId": "00245196995893858079"
     },
     "user_tz": -420
    },
    "id": "R2peWZDoHLZb",
    "outputId": "ecfd9b3c-f33f-4168-a67d-bbe7a1034d35"
   },
   "outputs": [],
   "source": [
    "# Check if GPU is activate\n",
    "device_name = tf.test.gpu_device_name()\n",
    "if device_name != '/device:GPU:0':\n",
    "  raise SystemError('GPU device not found')\n",
    "print('Found GPU at: {}'.format(device_name))"
   ]
  },
  {
   "cell_type": "markdown",
   "metadata": {
    "colab_type": "text",
    "id": "Fz11KMeZ2G-6"
   },
   "source": [
    "## Preprocessing\n"
   ]
  },
  {
   "cell_type": "markdown",
   "metadata": {
    "colab_type": "text",
    "id": "OtOQFnsB2NFq"
   },
   "source": [
    "### Load cifar100 dataset"
   ]
  },
  {
   "cell_type": "code",
   "execution_count": null,
   "metadata": {
    "colab": {
     "base_uri": "https://localhost:8080/",
     "height": 49
    },
    "colab_type": "code",
    "executionInfo": {
     "elapsed": 9203,
     "status": "ok",
     "timestamp": 1582692860923,
     "user": {
      "displayName": "Fahmi Salman Nurfikri",
      "photoUrl": "https://lh3.googleusercontent.com/a-/AAuE7mB_93ZyQzhJQaBdhgB2CFJpA4zNNzuRFkY4ThiPUg=s64",
      "userId": "00245196995893858079"
     },
     "user_tz": -420
    },
    "id": "39729e1_HO7M",
    "outputId": "75f68e37-f695-4a15-9353-9995f953723c"
   },
   "outputs": [],
   "source": [
    "cifar = datasets.cifar100\n",
    "\n",
    "(train_images, train_labels), (test_images, test_labels) = cifar.load_data()"
   ]
  },
  {
   "cell_type": "markdown",
   "metadata": {
    "colab_type": "text",
    "id": "4n78SPe92XWq"
   },
   "source": [
    "### Define the class"
   ]
  },
  {
   "cell_type": "code",
   "execution_count": null,
   "metadata": {
    "colab": {},
    "colab_type": "code",
    "id": "YMHTR2eYoUGu"
   },
   "outputs": [],
   "source": [
    "class_names = ['apple', 'aquarium_fish', 'baby', 'bear', 'beaver', 'bed', 'bee', 'beetle', \n",
    "               'bicycle', 'bottle', 'bowl', 'boy', 'bridge', 'bus', 'butterfly', 'camel', \n",
    "               'can', 'castle', 'caterpillar', 'cattle', 'chair', 'chimpanzee', 'clock', \n",
    "               'cloud', 'cockroach', 'couch', 'crab', 'crocodile', 'cup', 'dinosaur', \n",
    "               'dolphin', 'elephant', 'flatfish', 'forest', 'fox', 'girl', 'hamster', \n",
    "               'house', 'kangaroo', 'keyboard', 'lamp', 'lawn_mower', 'leopard', 'lion',\n",
    "               'lizard', 'lobster', 'man', 'maple_tree', 'motorcycle', 'mountain', 'mouse',\n",
    "               'mushroom', 'oak_tree', 'orange', 'orchid', 'otter', 'palm_tree', 'pear',\n",
    "               'pickup_truck', 'pine_tree', 'plain', 'plate', 'poppy', 'porcupine',\n",
    "               'possum', 'rabbit', 'raccoon', 'ray', 'road', 'rocket', 'rose',\n",
    "               'sea', 'seal', 'shark', 'shrew', 'skunk', 'skyscraper', 'snail', 'snake',\n",
    "               'spider', 'squirrel', 'streetcar', 'sunflower', 'sweet_pepper', 'table',\n",
    "               'tank', 'telephone', 'television', 'tiger', 'tractor', 'train', 'trout',\n",
    "               'tulip', 'turtle', 'wardrobe', 'whale', 'willow_tree', 'wolf', 'woman',\n",
    "               'worm']"
   ]
  },
  {
   "cell_type": "code",
   "execution_count": null,
   "metadata": {
    "colab": {
     "base_uri": "https://localhost:8080/",
     "height": 588
    },
    "colab_type": "code",
    "executionInfo": {
     "elapsed": 3428,
     "status": "ok",
     "timestamp": 1582692960651,
     "user": {
      "displayName": "Fahmi Salman Nurfikri",
      "photoUrl": "https://lh3.googleusercontent.com/a-/AAuE7mB_93ZyQzhJQaBdhgB2CFJpA4zNNzuRFkY4ThiPUg=s64",
      "userId": "00245196995893858079"
     },
     "user_tz": -420
    },
    "id": "LR5DSYhBoL0T",
    "outputId": "1c950651-8a61-455f-dfc0-430cddb4b618"
   },
   "outputs": [],
   "source": [
    "# View sample data\n",
    "plt.figure(figsize=(10,10))\n",
    "for i in range(25):\n",
    "    plt.subplot(5,5,i+1)\n",
    "    plt.xticks([])\n",
    "    plt.yticks([])\n",
    "    plt.grid(False)\n",
    "    plt.imshow(train_images[i], cmap=plt.cm.binary)\n",
    "    plt.xlabel(class_names[int(train_labels[i])])\n",
    "plt.show()"
   ]
  },
  {
   "cell_type": "markdown",
   "metadata": {
    "colab_type": "text",
    "id": "MC-bMY6p2htw"
   },
   "source": [
    "## Data exploration"
   ]
  },
  {
   "cell_type": "code",
   "execution_count": null,
   "metadata": {
    "colab": {
     "base_uri": "https://localhost:8080/",
     "height": 32
    },
    "colab_type": "code",
    "executionInfo": {
     "elapsed": 1114,
     "status": "ok",
     "timestamp": 1582692988699,
     "user": {
      "displayName": "Fahmi Salman Nurfikri",
      "photoUrl": "https://lh3.googleusercontent.com/a-/AAuE7mB_93ZyQzhJQaBdhgB2CFJpA4zNNzuRFkY4ThiPUg=s64",
      "userId": "00245196995893858079"
     },
     "user_tz": -420
    },
    "id": "NeIQd_Q_nHIS",
    "outputId": "7c5a1870-aadc-4931-d5e5-2d66752fa900"
   },
   "outputs": [],
   "source": [
    "# Show data shape\n",
    "train_images.shape"
   ]
  },
  {
   "cell_type": "code",
   "execution_count": null,
   "metadata": {
    "colab": {
     "base_uri": "https://localhost:8080/",
     "height": 823
    },
    "colab_type": "code",
    "executionInfo": {
     "elapsed": 736,
     "status": "ok",
     "timestamp": 1582692990206,
     "user": {
      "displayName": "Fahmi Salman Nurfikri",
      "photoUrl": "https://lh3.googleusercontent.com/a-/AAuE7mB_93ZyQzhJQaBdhgB2CFJpA4zNNzuRFkY4ThiPUg=s64",
      "userId": "00245196995893858079"
     },
     "user_tz": -420
    },
    "id": "XxJc3qvan2kp",
    "outputId": "a6483367-b98d-49d9-c3ed-5897c273c695"
   },
   "outputs": [],
   "source": [
    "train_images[0]"
   ]
  },
  {
   "cell_type": "code",
   "execution_count": null,
   "metadata": {
    "colab": {},
    "colab_type": "code",
    "id": "QiLGwHeaISs0"
   },
   "outputs": [],
   "source": [
    "train_images = train_images / 255.0\n",
    "test_images = test_images / 255.0"
   ]
  },
  {
   "cell_type": "markdown",
   "metadata": {
    "colab_type": "text",
    "id": "9sEAEKfW2w-S"
   },
   "source": [
    "## Build the model"
   ]
  },
  {
   "cell_type": "markdown",
   "metadata": {
    "colab_type": "text",
    "id": "8lojnLis2yWQ"
   },
   "source": [
    "### Define the model"
   ]
  },
  {
   "cell_type": "code",
   "execution_count": null,
   "metadata": {
    "colab": {
     "base_uri": "https://localhost:8080/",
     "height": 85
    },
    "colab_type": "code",
    "executionInfo": {
     "elapsed": 1492,
     "status": "ok",
     "timestamp": 1582693146708,
     "user": {
      "displayName": "Fahmi Salman Nurfikri",
      "photoUrl": "https://lh3.googleusercontent.com/a-/AAuE7mB_93ZyQzhJQaBdhgB2CFJpA4zNNzuRFkY4ThiPUg=s64",
      "userId": "00245196995893858079"
     },
     "user_tz": -420
    },
    "id": "m-Tk2VEfHRVt",
    "outputId": "2e63041a-1139-4277-c8ee-b5792165e6f7"
   },
   "outputs": [],
   "source": [
    "model = models.Sequential()\n",
    "model.add(layers.Conv2D(32, (3, 3), activation='relu', input_shape=(32, 32, 3)))\n",
    "model.add(layers.MaxPooling2D((2, 2)))\n",
    "model.add(layers.Conv2D(64, (3, 3), activation='relu'))\n",
    "model.add(layers.MaxPooling2D((2, 2)))\n",
    "model.add(layers.Conv2D(64, (3, 3), activation='relu'))\n",
    "model.add(layers.Flatten())\n",
    "model.add(layers.Dense(64, activation='relu'))\n",
    "model.add(layers.Dense(100, activation='softmax'))"
   ]
  },
  {
   "cell_type": "code",
   "execution_count": null,
   "metadata": {
    "colab": {},
    "colab_type": "code",
    "id": "9VxspG9yHjuU"
   },
   "outputs": [],
   "source": [
    "model.compile(optimizer='adam',\n",
    "              loss='sparse_categorical_crossentropy',\n",
    "              metrics=['accuracy'])"
   ]
  },
  {
   "cell_type": "markdown",
   "metadata": {
    "colab_type": "text",
    "id": "GnrRxfvJ25wo"
   },
   "source": [
    "### Fiting model"
   ]
  },
  {
   "cell_type": "code",
   "execution_count": null,
   "metadata": {
    "colab": {
     "base_uri": "https://localhost:8080/",
     "height": 214
    },
    "colab_type": "code",
    "executionInfo": {
     "elapsed": 44581,
     "status": "ok",
     "timestamp": 1582693190421,
     "user": {
      "displayName": "Fahmi Salman Nurfikri",
      "photoUrl": "https://lh3.googleusercontent.com/a-/AAuE7mB_93ZyQzhJQaBdhgB2CFJpA4zNNzuRFkY4ThiPUg=s64",
      "userId": "00245196995893858079"
     },
     "user_tz": -420
    },
    "id": "91wmrci1Hy1T",
    "outputId": "fd11a063-cba3-40cb-b69b-5b9c38e6d5e2"
   },
   "outputs": [],
   "source": [
    "model.fit(train_images, train_labels, epochs=5)"
   ]
  },
  {
   "cell_type": "markdown",
   "metadata": {
    "colab_type": "text",
    "id": "I4nW1LXF3BUa"
   },
   "source": [
    "### Testing model"
   ]
  },
  {
   "cell_type": "code",
   "execution_count": null,
   "metadata": {
    "colab": {
     "base_uri": "https://localhost:8080/",
     "height": 65
    },
    "colab_type": "code",
    "executionInfo": {
     "elapsed": 45028,
     "status": "ok",
     "timestamp": 1582693191251,
     "user": {
      "displayName": "Fahmi Salman Nurfikri",
      "photoUrl": "https://lh3.googleusercontent.com/a-/AAuE7mB_93ZyQzhJQaBdhgB2CFJpA4zNNzuRFkY4ThiPUg=s64",
      "userId": "00245196995893858079"
     },
     "user_tz": -420
    },
    "id": "hYbvyUvIH1ZS",
    "outputId": "82850888-dcde-49c4-954c-3fd7113e9d5a"
   },
   "outputs": [],
   "source": [
    "test_loss, test_acc = model.evaluate(test_images, test_labels, verbose=2)\n",
    "\n",
    "print('\\nTest accuracy:', test_acc)"
   ]
  },
  {
   "cell_type": "markdown",
   "metadata": {
    "colab_type": "text",
    "id": "-uHT8dwS3EXo"
   },
   "source": [
    "### Image predict"
   ]
  },
  {
   "cell_type": "code",
   "execution_count": null,
   "metadata": {
    "colab": {},
    "colab_type": "code",
    "id": "7Jorn1LRq3Qz"
   },
   "outputs": [],
   "source": [
    "predictions = model.predict(test_images)"
   ]
  },
  {
   "cell_type": "code",
   "execution_count": null,
   "metadata": {
    "colab": {},
    "colab_type": "code",
    "id": "nVndFoatI7PC"
   },
   "outputs": [],
   "source": [
    "def plot_image(i, predictions_array, true_label, img):\n",
    "  predictions_array, true_label, img = predictions_array, true_label[i], img[i]\n",
    "  plt.grid(False)\n",
    "  plt.xticks([])\n",
    "  plt.yticks([])\n",
    "\n",
    "  plt.imshow(img, cmap=plt.cm.binary)\n",
    "\n",
    "  predicted_label = np.argmax(predictions_array)\n",
    "  if predicted_label == true_label:\n",
    "    color = 'blue'\n",
    "  else:\n",
    "    color = 'red'\n",
    "\n",
    "  plt.xlabel(\"{} {:2.0f}% ({})\".format(class_names[predicted_label],\n",
    "                                100*np.max(predictions_array),\n",
    "                                class_names[int(true_label)]),\n",
    "                                color=color)\n",
    "\n",
    "def plot_value_array(i, predictions_array, true_label):\n",
    "  predictions_array, true_label = predictions_array, true_label[i]\n",
    "  plt.grid(False)\n",
    "  plt.xticks(range(10))\n",
    "  plt.yticks([])\n",
    "  thisplot = plt.bar(range(10), predictions_array, color=\"#777777\")\n",
    "  plt.ylim([0, 1])\n",
    "  predicted_label = np.argmax(predictions_array)\n",
    "\n",
    "  thisplot[predicted_label].set_color('red')\n",
    "  thisplot[true_label].set_color('blue')"
   ]
  },
  {
   "cell_type": "code",
   "execution_count": null,
   "metadata": {
    "colab": {
     "base_uri": "https://localhost:8080/",
     "height": 735
    },
    "colab_type": "code",
    "executionInfo": {
     "elapsed": 45187,
     "status": "ok",
     "timestamp": 1582693193860,
     "user": {
      "displayName": "Fahmi Salman Nurfikri",
      "photoUrl": "https://lh3.googleusercontent.com/a-/AAuE7mB_93ZyQzhJQaBdhgB2CFJpA4zNNzuRFkY4ThiPUg=s64",
      "userId": "00245196995893858079"
     },
     "user_tz": -420
    },
    "id": "P3Ng0VtFqpKq",
    "outputId": "22e02a56-3c36-436f-d44c-ad81543a7709"
   },
   "outputs": [],
   "source": [
    "# Plot the first X test images, their predicted labels, and the true labels.\n",
    "# Color correct predictions in blue and incorrect predictions in red.\n",
    "num_rows = 5\n",
    "num_cols = 5\n",
    "num_images = num_rows*num_cols\n",
    "plt.figure(figsize=(2*2*num_cols, 2*num_rows))\n",
    "for i in range(num_images):\n",
    "  plt.subplot(num_rows, 2*num_cols, 2*i+1)\n",
    "  plot_image(i, predictions[i], test_labels, test_images)\n",
    "plt.tight_layout()\n",
    "plt.show()"
   ]
  },
  {
   "cell_type": "markdown",
   "metadata": {
    "colab_type": "text",
    "id": "gCp6b9unEuVg"
   },
   "source": [
    "## Try your own"
   ]
  },
  {
   "cell_type": "code",
   "execution_count": null,
   "metadata": {
    "colab": {
     "base_uri": "https://localhost:8080/",
     "height": 197
    },
    "colab_type": "code",
    "executionInfo": {
     "elapsed": 37770,
     "status": "ok",
     "timestamp": 1582693196969,
     "user": {
      "displayName": "Fahmi Salman Nurfikri",
      "photoUrl": "https://lh3.googleusercontent.com/a-/AAuE7mB_93ZyQzhJQaBdhgB2CFJpA4zNNzuRFkY4ThiPUg=s64",
      "userId": "00245196995893858079"
     },
     "user_tz": -420
    },
    "id": "J6Xe7rwM0mdf",
    "outputId": "ff516c06-d010-40d7-968e-0bbf67366048"
   },
   "outputs": [],
   "source": [
    "!wget 'https://www.dw.com/image/48396304_403.jpg'"
   ]
  },
  {
   "cell_type": "code",
   "execution_count": null,
   "metadata": {
    "colab": {
     "base_uri": "https://localhost:8080/",
     "height": 544
    },
    "colab_type": "code",
    "executionInfo": {
     "elapsed": 14491,
     "status": "ok",
     "timestamp": 1582693263004,
     "user": {
      "displayName": "Fahmi Salman Nurfikri",
      "photoUrl": "https://lh3.googleusercontent.com/a-/AAuE7mB_93ZyQzhJQaBdhgB2CFJpA4zNNzuRFkY4ThiPUg=s64",
      "userId": "00245196995893858079"
     },
     "user_tz": -420
    },
    "id": "00ByiThVquxk",
    "outputId": "08ea7f6b-c088-4952-9583-63b1e4988b07"
   },
   "outputs": [],
   "source": [
    "from PIL import Image, ImageOps\n",
    "\n",
    "img = Image.open('/content/48396304_403.jpg')\n",
    "img"
   ]
  },
  {
   "cell_type": "code",
   "execution_count": null,
   "metadata": {
    "colab": {},
    "colab_type": "code",
    "id": "cUVzV89r35G9"
   },
   "outputs": [],
   "source": [
    "new_width  = 32\n",
    "new_height = 32\n",
    "img = img.resize((new_width, new_height), Image.ANTIALIAS)"
   ]
  },
  {
   "cell_type": "code",
   "execution_count": null,
   "metadata": {
    "colab": {
     "base_uri": "https://localhost:8080/",
     "height": 281
    },
    "colab_type": "code",
    "executionInfo": {
     "elapsed": 63775,
     "status": "ok",
     "timestamp": 1580975304456,
     "user": {
      "displayName": "Fahmi Salman Nurfikri",
      "photoUrl": "https://lh3.googleusercontent.com/a-/AAuE7mB_93ZyQzhJQaBdhgB2CFJpA4zNNzuRFkY4ThiPUg=s64",
      "userId": "00245196995893858079"
     },
     "user_tz": -420
    },
    "id": "gGC04Tcudl6e",
    "outputId": "3dee553d-9712-4aa1-aeb1-2092e36c3dab"
   },
   "outputs": [],
   "source": [
    "plt.imshow(img)"
   ]
  },
  {
   "cell_type": "code",
   "execution_count": null,
   "metadata": {
    "colab": {},
    "colab_type": "code",
    "id": "v7NNhbLP0tos"
   },
   "outputs": [],
   "source": [
    "img = np.array(img)\n",
    "img = img / 255"
   ]
  },
  {
   "cell_type": "code",
   "execution_count": null,
   "metadata": {
    "colab": {
     "base_uri": "https://localhost:8080/",
     "height": 280
    },
    "colab_type": "code",
    "executionInfo": {
     "elapsed": 1616,
     "status": "ok",
     "timestamp": 1580975358345,
     "user": {
      "displayName": "Fahmi Salman Nurfikri",
      "photoUrl": "https://lh3.googleusercontent.com/a-/AAuE7mB_93ZyQzhJQaBdhgB2CFJpA4zNNzuRFkY4ThiPUg=s64",
      "userId": "00245196995893858079"
     },
     "user_tz": -420
    },
    "id": "gr1XbdrT0uV2",
    "outputId": "8d8663dc-e4d2-4766-c461-cf51ba337d8b"
   },
   "outputs": [],
   "source": [
    "predictions_array = model.predict(img.reshape(1, 32, 32, 3))\n",
    "plt.grid(False)\n",
    "plt.xticks(range(100))\n",
    "plt.yticks([])\n",
    "thisplot = plt.bar(range(100), predictions_array[0], color=\"#777777\")\n",
    "plt.ylim([0, 1])\n",
    "predicted_label = np.argmax(predictions_array)\n",
    "plt.show()\n",
    "class_names[predicted_label]"
   ]
  },
  {
   "cell_type": "code",
   "execution_count": null,
   "metadata": {
    "colab": {},
    "colab_type": "code",
    "id": "YnwDAh_m1qQ4"
   },
   "outputs": [],
   "source": [
    "def predict(img):\n",
    "  new_width  = 32\n",
    "  new_height = 32\n",
    "  img = np.array(ImageOps.invert(img.resize((new_width, new_height), Image.ANTIALIAS)))\n",
    "  img = img / 255\n",
    "  plt.figure(figsize=(6,3))\n",
    "  plt.subplot(1,2,1)\n",
    "  plt.imshow(img, cmap=plt.cm.binary)\n",
    "  plt.subplot(1,2,2)\n",
    "  predictions_array = model.predict(img.reshape(1, 32, 32, 3))\n",
    "  plt.grid(False)\n",
    "  plt.xticks(range(100))\n",
    "  plt.yticks([])\n",
    "  thisplot = plt.bar(range(100), predictions_array[0], color=\"#777777\")\n",
    "  plt.ylim([0, 1])\n",
    "  predicted_label = np.argmax(predictions_array)\n",
    "  plt.show()\n",
    "  return class_names[np.argmax(model.predict(img.reshape(1, 32, 32, 3)))]"
   ]
  },
  {
   "cell_type": "code",
   "execution_count": null,
   "metadata": {
    "colab": {
     "base_uri": "https://localhost:8080/",
     "height": 225
    },
    "colab_type": "code",
    "executionInfo": {
     "elapsed": 2398,
     "status": "ok",
     "timestamp": 1582693309071,
     "user": {
      "displayName": "Fahmi Salman Nurfikri",
      "photoUrl": "https://lh3.googleusercontent.com/a-/AAuE7mB_93ZyQzhJQaBdhgB2CFJpA4zNNzuRFkY4ThiPUg=s64",
      "userId": "00245196995893858079"
     },
     "user_tz": -420
    },
    "id": "KeJGqqS73WWN",
    "outputId": "a8bd107c-90f0-470a-cd9e-5d23999416b7"
   },
   "outputs": [],
   "source": [
    "predict(img)"
   ]
  },
  {
   "cell_type": "code",
   "execution_count": null,
   "metadata": {
    "colab": {},
    "colab_type": "code",
    "id": "dEAETpBb3eoK"
   },
   "outputs": [],
   "source": []
  }
 ],
 "metadata": {
  "accelerator": "GPU",
  "colab": {
   "collapsed_sections": [],
   "name": "3.1. Convolutional Neural Network using cifar100.ipynb",
   "provenance": [],
   "toc_visible": true
  },
  "kernelspec": {
   "display_name": "Python 3",
   "language": "python",
   "name": "python3"
  },
  "language_info": {
   "codemirror_mode": {
    "name": "ipython",
    "version": 3
   },
   "file_extension": ".py",
   "mimetype": "text/x-python",
   "name": "python",
   "nbconvert_exporter": "python",
   "pygments_lexer": "ipython3",
   "version": "3.6.6"
  }
 },
 "nbformat": 4,
 "nbformat_minor": 1
}
