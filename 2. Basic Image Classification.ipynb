{
 "cells": [
  {
   "cell_type": "code",
   "execution_count": null,
   "metadata": {
    "colab": {
     "base_uri": "https://localhost:8080/",
     "height": 62
    },
    "colab_type": "code",
    "executionInfo": {
     "elapsed": 2655,
     "status": "ok",
     "timestamp": 1580366933755,
     "user": {
      "displayName": "Maholi Solin",
      "photoUrl": "https://lh3.googleusercontent.com/a-/AAuE7mBlkUmoc_vIcEgCoKfjr3U-x5kyu9-y4uwZ_YR9QA=s64",
      "userId": "10710053791698619486"
     },
     "user_tz": -420
    },
    "id": "1JRuZW8E_Zea",
    "outputId": "6dbd4329-6c49-4163-eb03-850523f927fd"
   },
   "outputs": [],
   "source": [
    "# TensorFlow and tf.keras\n",
    "import tensorflow as tf\n",
    "from tensorflow import keras\n",
    "\n",
    "# Helper libraries\n",
    "import numpy as np\n",
    "import matplotlib.pyplot as plt"
   ]
  },
  {
   "cell_type": "code",
   "execution_count": null,
   "metadata": {
    "colab": {
     "base_uri": "https://localhost:8080/",
     "height": 33
    },
    "colab_type": "code",
    "executionInfo": {
     "elapsed": 2631,
     "status": "ok",
     "timestamp": 1580366933767,
     "user": {
      "displayName": "Maholi Solin",
      "photoUrl": "https://lh3.googleusercontent.com/a-/AAuE7mBlkUmoc_vIcEgCoKfjr3U-x5kyu9-y4uwZ_YR9QA=s64",
      "userId": "10710053791698619486"
     },
     "user_tz": -420
    },
    "id": "WNTJyBey_5u7",
    "outputId": "afaa4308-652f-4ff8-9714-a76e0c80337c"
   },
   "outputs": [],
   "source": [
    "tf.__version__"
   ]
  },
  {
   "cell_type": "code",
   "execution_count": null,
   "metadata": {
    "colab": {
     "base_uri": "https://localhost:8080/",
     "height": 33
    },
    "colab_type": "code",
    "executionInfo": {
     "elapsed": 4251,
     "status": "ok",
     "timestamp": 1580366935415,
     "user": {
      "displayName": "Maholi Solin",
      "photoUrl": "https://lh3.googleusercontent.com/a-/AAuE7mBlkUmoc_vIcEgCoKfjr3U-x5kyu9-y4uwZ_YR9QA=s64",
      "userId": "10710053791698619486"
     },
     "user_tz": -420
    },
    "id": "C06DEWurCDqu",
    "outputId": "2e8c0096-099c-4f08-ed10-ec44351448a5"
   },
   "outputs": [],
   "source": [
    "device_name = tf.test.gpu_device_name()\n",
    "if device_name != '/device:GPU:0':\n",
    "  raise SystemError('GPU device not found')\n",
    "print('Found GPU at: {}'.format(device_name))\n"
   ]
  },
  {
   "cell_type": "code",
   "execution_count": null,
   "metadata": {
    "colab": {
     "base_uri": "https://localhost:8080/",
     "height": 50
    },
    "colab_type": "code",
    "executionInfo": {
     "elapsed": 4670,
     "status": "ok",
     "timestamp": 1580366935860,
     "user": {
      "displayName": "Maholi Solin",
      "photoUrl": "https://lh3.googleusercontent.com/a-/AAuE7mBlkUmoc_vIcEgCoKfjr3U-x5kyu9-y4uwZ_YR9QA=s64",
      "userId": "10710053791698619486"
     },
     "user_tz": -420
    },
    "id": "ee4cRprLAFJW",
    "outputId": "3d564dda-905e-4804-c694-fb38de6bcd9f"
   },
   "outputs": [],
   "source": [
    "mnist = keras.datasets.mnist\n",
    "\n",
    "(train_images, train_labels), (test_images, test_labels) = mnist.load_data()"
   ]
  },
  {
   "cell_type": "code",
   "execution_count": null,
   "metadata": {
    "colab": {},
    "colab_type": "code",
    "id": "KS3rraAOAiqc"
   },
   "outputs": [],
   "source": [
    "class_names = ['0', '1', '2', '3', '4',\n",
    "               '5', '6', '7', '8', '9']"
   ]
  },
  {
   "cell_type": "code",
   "execution_count": null,
   "metadata": {
    "colab": {
     "base_uri": "https://localhost:8080/",
     "height": 1000
    },
    "colab_type": "code",
    "executionInfo": {
     "elapsed": 1252,
     "status": "ok",
     "timestamp": 1580366946217,
     "user": {
      "displayName": "Maholi Solin",
      "photoUrl": "https://lh3.googleusercontent.com/a-/AAuE7mBlkUmoc_vIcEgCoKfjr3U-x5kyu9-y4uwZ_YR9QA=s64",
      "userId": "10710053791698619486"
     },
     "user_tz": -420
    },
    "id": "48gwAbssNbAd",
    "outputId": "895a40fa-46da-4b50-8b66-4aef5d0913d5"
   },
   "outputs": [],
   "source": [
    "train_images[0]"
   ]
  },
  {
   "cell_type": "code",
   "execution_count": null,
   "metadata": {
    "colab": {
     "base_uri": "https://localhost:8080/",
     "height": 34
    },
    "colab_type": "code",
    "executionInfo": {
     "elapsed": 2605,
     "status": "ok",
     "timestamp": 1578048530438,
     "user": {
      "displayName": "Fahmi Salman Nurfikri",
      "photoUrl": "https://lh3.googleusercontent.com/a-/AAuE7mB_93ZyQzhJQaBdhgB2CFJpA4zNNzuRFkY4ThiPUg=s64",
      "userId": "00245196995893858079"
     },
     "user_tz": -420
    },
    "id": "4uEbpax1A9Nw",
    "outputId": "f3710026-1d37-4a15-f7da-77f5d67abc1e"
   },
   "outputs": [],
   "source": [
    "train_images.shape"
   ]
  },
  {
   "cell_type": "code",
   "execution_count": null,
   "metadata": {
    "colab": {
     "base_uri": "https://localhost:8080/",
     "height": 34
    },
    "colab_type": "code",
    "executionInfo": {
     "elapsed": 2599,
     "status": "ok",
     "timestamp": 1578048530441,
     "user": {
      "displayName": "Fahmi Salman Nurfikri",
      "photoUrl": "https://lh3.googleusercontent.com/a-/AAuE7mB_93ZyQzhJQaBdhgB2CFJpA4zNNzuRFkY4ThiPUg=s64",
      "userId": "00245196995893858079"
     },
     "user_tz": -420
    },
    "id": "UJoOvBO2A_Je",
    "outputId": "1c1851ca-83fd-43a8-ba90-5504b5be002e"
   },
   "outputs": [],
   "source": [
    "len(train_labels)"
   ]
  },
  {
   "cell_type": "code",
   "execution_count": null,
   "metadata": {
    "colab": {
     "base_uri": "https://localhost:8080/",
     "height": 265
    },
    "colab_type": "code",
    "executionInfo": {
     "elapsed": 3172,
     "status": "ok",
     "timestamp": 1578048531107,
     "user": {
      "displayName": "Fahmi Salman Nurfikri",
      "photoUrl": "https://lh3.googleusercontent.com/a-/AAuE7mB_93ZyQzhJQaBdhgB2CFJpA4zNNzuRFkY4ThiPUg=s64",
      "userId": "00245196995893858079"
     },
     "user_tz": -420
    },
    "id": "GQnahhKtAKO9",
    "outputId": "7511bc83-cf94-4d41-9fcc-3322327e82a9"
   },
   "outputs": [],
   "source": [
    "plt.figure()\n",
    "plt.imshow(train_images[0])\n",
    "plt.colorbar()\n",
    "plt.grid(False)\n",
    "plt.show()"
   ]
  },
  {
   "cell_type": "code",
   "execution_count": null,
   "metadata": {
    "colab": {},
    "colab_type": "code",
    "id": "qMVh4yu5AW9k"
   },
   "outputs": [],
   "source": [
    "train_images = train_images / 255.0\n",
    "test_images = test_images / 255.0"
   ]
  },
  {
   "cell_type": "code",
   "execution_count": null,
   "metadata": {
    "colab": {
     "base_uri": "https://localhost:8080/",
     "height": 589
    },
    "colab_type": "code",
    "executionInfo": {
     "elapsed": 3797,
     "status": "ok",
     "timestamp": 1578048531770,
     "user": {
      "displayName": "Fahmi Salman Nurfikri",
      "photoUrl": "https://lh3.googleusercontent.com/a-/AAuE7mB_93ZyQzhJQaBdhgB2CFJpA4zNNzuRFkY4ThiPUg=s64",
      "userId": "00245196995893858079"
     },
     "user_tz": -420
    },
    "id": "Cpe3BT6KAqIi",
    "outputId": "0c77addb-03af-4e43-dea6-339e666c1eed"
   },
   "outputs": [],
   "source": [
    "plt.figure(figsize=(10,10))\n",
    "for i in range(25):\n",
    "    plt.subplot(5,5,i+1)\n",
    "    plt.xticks([])\n",
    "    plt.yticks([])\n",
    "    plt.grid(False)\n",
    "    plt.imshow(train_images[i], cmap=plt.cm.binary)\n",
    "    plt.xlabel(class_names[train_labels[i]])\n",
    "plt.show()"
   ]
  },
  {
   "cell_type": "markdown",
   "metadata": {
    "colab_type": "text",
    "id": "x_y4cyncp2nF"
   },
   "source": [
    "![alt text](https://upload.wikimedia.org/wikipedia/commons/e/e4/Artificial_neural_network.svg)\n",
    "\n",
    "source: https://id.wikipedia.org/wiki/Jaringan_saraf_tiruan"
   ]
  },
  {
   "cell_type": "code",
   "execution_count": null,
   "metadata": {
    "colab": {
     "base_uri": "https://localhost:8080/",
     "height": 88
    },
    "colab_type": "code",
    "executionInfo": {
     "elapsed": 3771,
     "status": "ok",
     "timestamp": 1578048531771,
     "user": {
      "displayName": "Fahmi Salman Nurfikri",
      "photoUrl": "https://lh3.googleusercontent.com/a-/AAuE7mB_93ZyQzhJQaBdhgB2CFJpA4zNNzuRFkY4ThiPUg=s64",
      "userId": "00245196995893858079"
     },
     "user_tz": -420
    },
    "id": "FEsOSBT-AzxQ",
    "outputId": "b2d1142c-cce9-4ae0-fb09-2153742c4289"
   },
   "outputs": [],
   "source": [
    "model = keras.Sequential([\n",
    "    keras.layers.Flatten(input_shape=(28, 28)), # Input layer\n",
    "    keras.layers.Dense(128, activation='relu'), # Hidden layer\n",
    "    keras.layers.Dense(10, activation='softmax') # Output layer\n",
    "])"
   ]
  },
  {
   "cell_type": "code",
   "execution_count": null,
   "metadata": {
    "colab": {},
    "colab_type": "code",
    "id": "0DzEJnDFBTOz"
   },
   "outputs": [],
   "source": [
    "model.compile(optimizer='adam',\n",
    "              loss='sparse_categorical_crossentropy',\n",
    "              metrics=['accuracy'])"
   ]
  },
  {
   "cell_type": "code",
   "execution_count": null,
   "metadata": {
    "colab": {
     "base_uri": "https://localhost:8080/",
     "height": 68
    },
    "colab_type": "code",
    "executionInfo": {
     "elapsed": 13327,
     "status": "ok",
     "timestamp": 1578048561446,
     "user": {
      "displayName": "Fahmi Salman Nurfikri",
      "photoUrl": "https://lh3.googleusercontent.com/a-/AAuE7mB_93ZyQzhJQaBdhgB2CFJpA4zNNzuRFkY4ThiPUg=s64",
      "userId": "00245196995893858079"
     },
     "user_tz": -420
    },
    "id": "0AshnjEbBc0I",
    "outputId": "348f53b0-51d3-45ed-9f10-8ff5fcb5e2e3"
   },
   "outputs": [],
   "source": [
    "model.fit(train_images, train_labels, epochs=1)"
   ]
  },
  {
   "cell_type": "code",
   "execution_count": null,
   "metadata": {
    "colab": {
     "base_uri": "https://localhost:8080/",
     "height": 68
    },
    "colab_type": "code",
    "executionInfo": {
     "elapsed": 1174,
     "status": "ok",
     "timestamp": 1578048767367,
     "user": {
      "displayName": "Fahmi Salman Nurfikri",
      "photoUrl": "https://lh3.googleusercontent.com/a-/AAuE7mB_93ZyQzhJQaBdhgB2CFJpA4zNNzuRFkY4ThiPUg=s64",
      "userId": "00245196995893858079"
     },
     "user_tz": -420
    },
    "id": "zCifxYBBBeyA",
    "outputId": "784c3b5d-f0f8-4810-cc7a-44ab577536d5"
   },
   "outputs": [],
   "source": [
    "test_loss, test_acc = model.evaluate(test_images,  test_labels, verbose=2)\n",
    "\n",
    "print('\\nTest accuracy:', test_acc)"
   ]
  },
  {
   "cell_type": "code",
   "execution_count": null,
   "metadata": {
    "colab": {},
    "colab_type": "code",
    "id": "Dsbe897pB1wz"
   },
   "outputs": [],
   "source": [
    "predictions = model.predict(test_images)"
   ]
  },
  {
   "cell_type": "code",
   "execution_count": null,
   "metadata": {
    "colab": {
     "base_uri": "https://localhost:8080/",
     "height": 68
    },
    "colab_type": "code",
    "executionInfo": {
     "elapsed": 850,
     "status": "ok",
     "timestamp": 1578048791434,
     "user": {
      "displayName": "Fahmi Salman Nurfikri",
      "photoUrl": "https://lh3.googleusercontent.com/a-/AAuE7mB_93ZyQzhJQaBdhgB2CFJpA4zNNzuRFkY4ThiPUg=s64",
      "userId": "00245196995893858079"
     },
     "user_tz": -420
    },
    "id": "GEInJ3NQCXXc",
    "outputId": "d7620664-2c7f-4e90-fed1-06d28e681186"
   },
   "outputs": [],
   "source": [
    "predictions[0]"
   ]
  },
  {
   "cell_type": "code",
   "execution_count": null,
   "metadata": {
    "colab": {
     "base_uri": "https://localhost:8080/",
     "height": 34
    },
    "colab_type": "code",
    "executionInfo": {
     "elapsed": 1227,
     "status": "ok",
     "timestamp": 1578048807356,
     "user": {
      "displayName": "Fahmi Salman Nurfikri",
      "photoUrl": "https://lh3.googleusercontent.com/a-/AAuE7mB_93ZyQzhJQaBdhgB2CFJpA4zNNzuRFkY4ThiPUg=s64",
      "userId": "00245196995893858079"
     },
     "user_tz": -420
    },
    "id": "1h4gpRzaCZ_E",
    "outputId": "a3cbbfd8-d8c8-404f-ae5f-e945723031e2"
   },
   "outputs": [],
   "source": [
    "np.argmax(predictions[0])"
   ]
  },
  {
   "cell_type": "code",
   "execution_count": null,
   "metadata": {
    "colab": {},
    "colab_type": "code",
    "id": "hgC22HD4Cdxb"
   },
   "outputs": [],
   "source": [
    "def plot_image(i, predictions_array, true_label, img):\n",
    "  predictions_array, true_label, img = predictions_array, true_label[i], img[i]\n",
    "  plt.grid(False)\n",
    "  plt.xticks([])\n",
    "  plt.yticks([])\n",
    "\n",
    "  plt.imshow(img, cmap=plt.cm.binary)\n",
    "\n",
    "  predicted_label = np.argmax(predictions_array)\n",
    "  if predicted_label == true_label:\n",
    "    color = 'blue'\n",
    "  else:\n",
    "    color = 'red'\n",
    "\n",
    "  plt.xlabel(\"{} {:2.0f}% ({})\".format(class_names[predicted_label],\n",
    "                                100*np.max(predictions_array),\n",
    "                                class_names[true_label]),\n",
    "                                color=color)\n",
    "\n",
    "def plot_value_array(i, predictions_array, true_label):\n",
    "  predictions_array, true_label = predictions_array, true_label[i]\n",
    "  plt.grid(False)\n",
    "  plt.xticks(range(10))\n",
    "  plt.yticks([])\n",
    "  thisplot = plt.bar(range(10), predictions_array, color=\"#777777\")\n",
    "  plt.ylim([0, 1])\n",
    "  predicted_label = np.argmax(predictions_array)\n",
    "\n",
    "  thisplot[predicted_label].set_color('red')\n",
    "  thisplot[true_label].set_color('blue')"
   ]
  },
  {
   "cell_type": "code",
   "execution_count": null,
   "metadata": {
    "colab": {
     "base_uri": "https://localhost:8080/",
     "height": 211
    },
    "colab_type": "code",
    "executionInfo": {
     "elapsed": 801,
     "status": "ok",
     "timestamp": 1578048832864,
     "user": {
      "displayName": "Fahmi Salman Nurfikri",
      "photoUrl": "https://lh3.googleusercontent.com/a-/AAuE7mB_93ZyQzhJQaBdhgB2CFJpA4zNNzuRFkY4ThiPUg=s64",
      "userId": "00245196995893858079"
     },
     "user_tz": -420
    },
    "id": "cDcVAhTTChw7",
    "outputId": "697d9429-a313-415b-99a4-5c6d4c2d86af"
   },
   "outputs": [],
   "source": [
    "i = 0\n",
    "plt.figure(figsize=(6,3))\n",
    "plt.subplot(1,2,1)\n",
    "plot_image(i, predictions[i], test_labels, test_images)\n",
    "plt.subplot(1,2,2)\n",
    "plot_value_array(i, predictions[i],  test_labels)\n",
    "plt.show()"
   ]
  },
  {
   "cell_type": "code",
   "execution_count": null,
   "metadata": {
    "colab": {
     "base_uri": "https://localhost:8080/",
     "height": 211
    },
    "colab_type": "code",
    "executionInfo": {
     "elapsed": 710,
     "status": "ok",
     "timestamp": 1578048854885,
     "user": {
      "displayName": "Fahmi Salman Nurfikri",
      "photoUrl": "https://lh3.googleusercontent.com/a-/AAuE7mB_93ZyQzhJQaBdhgB2CFJpA4zNNzuRFkY4ThiPUg=s64",
      "userId": "00245196995893858079"
     },
     "user_tz": -420
    },
    "id": "_Jj9ltOrCkHC",
    "outputId": "fac1a3bb-611f-4128-f60c-18bde3d97bfa"
   },
   "outputs": [],
   "source": [
    "i = 12\n",
    "plt.figure(figsize=(6,3))\n",
    "plt.subplot(1,2,1)\n",
    "plot_image(i, predictions[i], test_labels, test_images)\n",
    "plt.subplot(1,2,2)\n",
    "plot_value_array(i, predictions[i],  test_labels)\n",
    "plt.show()"
   ]
  },
  {
   "cell_type": "code",
   "execution_count": null,
   "metadata": {
    "colab": {
     "base_uri": "https://localhost:8080/",
     "height": 729
    },
    "colab_type": "code",
    "executionInfo": {
     "elapsed": 2915,
     "status": "ok",
     "timestamp": 1578048872140,
     "user": {
      "displayName": "Fahmi Salman Nurfikri",
      "photoUrl": "https://lh3.googleusercontent.com/a-/AAuE7mB_93ZyQzhJQaBdhgB2CFJpA4zNNzuRFkY4ThiPUg=s64",
      "userId": "00245196995893858079"
     },
     "user_tz": -420
    },
    "id": "d65KmBCPCpgr",
    "outputId": "cb783f8c-7184-49cc-d659-61839f52daf4"
   },
   "outputs": [],
   "source": [
    "# Plot the first X test images, their predicted labels, and the true labels.\n",
    "# Color correct predictions in blue and incorrect predictions in red.\n",
    "num_rows = 5\n",
    "num_cols = 3\n",
    "num_images = num_rows*num_cols\n",
    "plt.figure(figsize=(2*2*num_cols, 2*num_rows))\n",
    "for i in range(num_images):\n",
    "  plt.subplot(num_rows, 2*num_cols, 2*i+1)\n",
    "  plot_image(i, predictions[i], test_labels, test_images)\n",
    "  plt.subplot(num_rows, 2*num_cols, 2*i+2)\n",
    "  plot_value_array(i, predictions[i], test_labels)\n",
    "plt.tight_layout()\n",
    "plt.show()"
   ]
  },
  {
   "cell_type": "code",
   "execution_count": null,
   "metadata": {
    "colab": {},
    "colab_type": "code",
    "id": "keANzhqPD8qB"
   },
   "outputs": [],
   "source": []
  }
 ],
 "metadata": {
  "accelerator": "GPU",
  "colab": {
   "name": "2. Basic Image Classification.ipynb",
   "provenance": []
  },
  "kernelspec": {
   "display_name": "Python 3",
   "language": "python",
   "name": "python3"
  },
  "language_info": {
   "codemirror_mode": {
    "name": "ipython",
    "version": 3
   },
   "file_extension": ".py",
   "mimetype": "text/x-python",
   "name": "python",
   "nbconvert_exporter": "python",
   "pygments_lexer": "ipython3",
   "version": "3.6.6"
  }
 },
 "nbformat": 4,
 "nbformat_minor": 1
}
